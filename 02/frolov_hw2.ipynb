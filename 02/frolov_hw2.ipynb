{
 "cells": [
  {
   "cell_type": "markdown",
   "metadata": {},
   "source": [
    "# Алгоритмы интеллектуальной обработки больших объемов данных\n",
    "## Домашнее задание №3: Линейные модели\n"
   ]
  },
  {
   "cell_type": "markdown",
   "metadata": {},
   "source": [
    "###### <hr\\>\n",
    "**Общая информация**\n",
    "\n",
    "**Срок сдачи:** 8 апреля 2019, 06:00  \n",
    "**Штраф за опоздание:** \n",
    " * -2 балла после 06:00 8 апреля,\n",
    " * -4 балла после 06:00 15 апреля,\n",
    " * -6 баллов после 06:00 22 апреля,\n",
    " * -8 баллов после 06:00 29 апреля.\n",
    "\n",
    "При отправлении ДЗ указывайте фамилию в названии файла\n",
    "\n",
    "Используйте данный Ipython Notebook при оформлении домашнего задания.\n",
    "\n",
    "**Штрафные баллы:**\n",
    "\n",
    "1. Невыполнение PEP8 -1 балл\n",
    "2. Отсутствие фамилии в имени скрипта (скрипт должен называться по аналогии со stroykova_hw2.ipynb) -1 балл\n",
    "3. Все строчки должны быть выполнены. Нужно, чтобы output команды можно было увидеть уже в git'е. В противном случае -1 балл\n",
    "4. При оформлении ДЗ нужно пользоваться данным файлом в качестве шаблона. Не нужно удалять и видоизменять написанный код и текст, если явно не указана такая возможность. В противном случае -1 балл\n"
   ]
  },
  {
   "cell_type": "code",
   "execution_count": 1,
   "metadata": {},
   "outputs": [],
   "source": [
    "import pandas as pd\n",
    "import numpy as np\n",
    "import matplotlib.pyplot as plt\n",
    "\n",
    "%matplotlib inline\n",
    "%load_ext pycodestyle_magic\n",
    "\n",
    "plt.style.use('ggplot')\n",
    "plt.rcParams['figure.figsize'] = (12,5)"
   ]
  },
  {
   "cell_type": "markdown",
   "metadata": {},
   "source": [
    "Здравствуйте, уважаемые студенты! \n",
    "\n",
    "В этом задании мы будем реализовать линейные модели. Необходимо реализовать линейную и логистическую регрессии с L2 регуляризацией"
   ]
  },
  {
   "cell_type": "markdown",
   "metadata": {},
   "source": [
    "# Теоретическое введение\n",
    "\n"
   ]
  },
  {
   "cell_type": "markdown",
   "metadata": {},
   "source": [
    "*** Что почитать по теории ***\n",
    "\n",
    "Одна из лучших книг по ML $-$ \"Pattern Recognition and Machine Learning\" Bishop, Christopher. "
   ]
  },
  {
   "cell_type": "markdown",
   "metadata": {},
   "source": [
    "Линейная регрессия решает задачу регрессии и оптимизирует функцию потерь MSE \n",
    "\n",
    "$$L(w) =  \\frac{1}{N}\\left[\\sum_i (y_i - a_i) ^ 2 \\right], $$ где $y_i$ $-$ целевая функция,  $a_i = a(x_i) =  \\langle\\,x_i,w\\rangle ,$ $-$ предсказание алгоритма на объекте $x_i$, $w$ $-$ вектор весов (размерности $D$), $x_i$ $-$ вектор признаков (такой же размерности $D$).\n"
   ]
  },
  {
   "cell_type": "markdown",
   "metadata": {},
   "source": [
    "Логистическая регрессия является линейным классификатором, который оптимизирует так называемый функционал log loss:"
   ]
  },
  {
   "cell_type": "markdown",
   "metadata": {},
   "source": [
    "$$L(w) = - \\frac{1}{N}\\left[\\sum_i y_i \\log a_i + ( 1 - y_i) \\log (1 - a_i) \\right],$$\n",
    "где  $y_i  \\in \\{0,1\\}$ $-$ метка класса, $a_i$ $-$ предсказание алгоритма на объекте $x_i$. Модель пытается предсказать апостериорую вероятность объекта принадлежать к классу \"1\":\n",
    "$$ p(y_i = 1 | x_i) = a(x_i) =  \\sigma( \\langle\\,x_i,w\\rangle ),$$\n",
    "$w$ $-$ вектор весов (размерности $D$), $x_i$ $-$ вектор признаков (такой же размерности $D$).\n",
    "\n",
    "Функция $\\sigma(x)$ $-$ нелинейная функция, пероводящее скалярное произведение объекта на веса в число $\\in (0,1)$ (мы же моделируем вероятность все-таки!)\n",
    "\n",
    "$$\\sigma(x) = \\frac{1}{1 + \\exp(-x)}$$\n",
    "\n",
    "Если внимательно посмотреть на функцию потерь, то можно заметить, что в зависимости от правильного ответа алгоритм штрафуется или функцией $-\\log a_i$, или функцией $-\\log (1 - a_i)$.\n",
    "\n"
   ]
  },
  {
   "cell_type": "markdown",
   "metadata": {},
   "source": [
    "Часто для решения проблем, которые так или иначе связаны с проблемой переобучения, в функционал качества добавляют слагаемое, которое называют ***регуляризацией***. Итоговый функционал для линейной регрессии тогда принимает вид:\n",
    "\n",
    "$$L(w) =  \\frac{1}{N}\\left[\\sum_i (y_i - a_i) ^ 2 \\right] + \\frac{1}{C}R(w) $$\n",
    "\n",
    "Для логистической: \n",
    "$$L(w) = - \\frac{1}{N}\\left[\\sum_i y_i \\log a_i + ( 1 - y_i) \\log (1 - a_i) \\right] +  \\frac{1}{C}R(w)$$\n",
    "\n",
    "Самое понятие регуляризации введено основателем ВМК академиком Тихоновым https://ru.wikipedia.org/wiki/Метод_регуляризации_Тихонова\n",
    "\n",
    "Идейно методика регуляризации заключается в следующем $-$ мы рассматриваем некорректно поставленную задачу (что это такое можно найти в интернете), для того чтобы сузить набор различных вариантов (лучшие из которых будут являться переобучением ) мы вводим дополнительные ограничения на множество искомых решений. На лекции Вы уже рассмотрели два варианта регуляризации.\n",
    "\n",
    "$L1$ регуляризация:\n",
    "$$R(w) = \\sum_{j=1}^{D}|w_j|$$\n",
    "$L2$ регуляризация:\n",
    "$$R(w) =  \\sum_{j=1}^{D}w_j^2$$\n",
    "\n",
    "С их помощью мы ограничиваем модель в  возможности выбора каких угодно весов минимизирующих наш лосс, модель уже не сможет подстроиться под данные как ей угодно. \n",
    "\n",
    "Вам нужно добавить соотвествущую Вашему варианту $L2$ регуляризацию.\n",
    "\n",
    "И так, мы поняли, какую функцию ошибки будем минимизировать, разобрались, как получить предсказания по объекту и обученным весам. Осталось разобраться, как получить оптимальные веса. Для этого нужно выбрать какой-то метод оптимизации.\n",
    "\n"
   ]
  },
  {
   "cell_type": "markdown",
   "metadata": {},
   "source": [
    "Градиентный спуск является самым популярным алгоритмом обучения линейных моделей. В этом задании Вам предложат реализовать стохастический градиентный спуск или  мини-батч градиентный спуск (мини-батч на русский язык довольно сложно перевести, многие переводят это как \"пакетный\", но мне не кажется этот перевод удачным). Далее нам потребуется определение **эпохи**.\n",
    "Эпохой в SGD и MB-GD называется один проход по **всем** объектам в обучающей выборки.\n",
    "* В SGD градиент расчитывается по одному случайному объекту. Сам алгоритм выглядит примерно так:\n",
    "        1) Перемешать выборку\n",
    "        2) Посчитать градиент функции потерь на одном объекте (далее один объект тоже будем называть батчем)\n",
    "        3) Сделать шаг спуска\n",
    "        4) Повторять 2) и 3) пока не пройдет максимальное число эпох.\n",
    "* В Mini Batch SGD - по подвыборке объектов. Сам алгоритм выглядит примерно так::\n",
    "        1) Перемешать выборку, выбрать размер мини-батча (от 1 до размера выборки)\n",
    "        2) Почитать градиент функции потерь по мини-батчу (не забыть поделить на  число объектов в мини-батче)\n",
    "        3) Сделать шаг спуска\n",
    "        4) Повторять 2) и 3) пока не пройдет максимальное число эпох.\n",
    "* Для отладки алгоритма реализуйте возможность  вывода средней ошибки на обучении модели по объектам (мини-батчам). После шага градиентного спуска посчитайте значение ошибки на объекте (или мини-батче), а затем усредните, например, по ста шагам. Если обучение проходит корректно, то мы должны увидеть, что каждые 100 шагов функция потерь уменьшается. \n",
    "* Правило останова - максимальное количество эпох\n",
    "    \n"
   ]
  },
  {
   "cell_type": "markdown",
   "metadata": {},
   "source": [
    "# Теоретические вопросы (2 балла)\n",
    "В этой части Вам будут предложены теоретичские вопросы и задачи по теме. Вы, конечно, можете списать их у своего товарища или найти решение в интернете, но учтите, что они обязательно войдут в теоретический коллоквиум. Лучше разобраться в теме сейчас и успешно ответить на коллоквиуме, чем списать, не разобравшись в материале, и быть терзаемым совестью. \n",
    "\n",
    "\n",
    "Формулы надо оформлять в формате **LaTeX**."
   ]
  },
  {
   "cell_type": "markdown",
   "metadata": {},
   "source": [
    "####  Задача 1. Градиент для линейной регрессии.\n",
    "* Выпишите формулу обновления весов для линейной регрессии с L2 регуляризацией для мини-батч градиентого спуска размера $n$:\n",
    "\n",
    "$$ w_{new} = w_{old} - ... $$\n",
    "\n",
    " Отнеситесь к этому пункту максимально серьезно, это Вам нужно будет реализовать в задании.\n",
    " \n",
    "Проанализруйте итоговую формулу градиента - как  интуитивно можно  описать, чему равен градиент?"
   ]
  },
  {
   "cell_type": "markdown",
   "metadata": {},
   "source": [
    "***Ваше решение здесь***\n",
    "\n",
    "**Здесь и далее**:\n",
    "* $X_{[n, D+1]}$, $y_{[n,1]}$, $w_{[D+1,1]}, \\lambda_{[D+1,D+1]}$\n",
    "* $\\lambda_{0,0} = 0,\\ \\lambda_{i,i}=\\frac{1}{C}, i \\neq 0,\\ \\lambda_{i,j} = 0, i \\neq j$\n",
    "* $\\frac{R(w)}{C} = \\frac{1}{C}\\sum_{j=1}^{D}w_j^2 = w^T \\lambda w $\n",
    "\n",
    "Предсказание линейной модели:\n",
    "* $ p = Xw_{old} $\n",
    "\n",
    "**Формула обновления весов**:\n",
    "$$ w_{new} = w_{old} - \\alpha(\\frac{1}{n} X^T (p - y) + \\lambda w_{old}) $$"
   ]
  },
  {
   "cell_type": "markdown",
   "metadata": {},
   "source": [
    "#### Задача 2. Градиент для логистической регрессии.\n",
    "* Выпишите формулу обновления весов для логистической регрессии с L2 регуляризацией  для мини-батч градиентого спуска размера $n$:\n",
    "\n",
    "\n",
    "$$ w_{new} = w_{old} - ... $$\n",
    "\n",
    " Отнеситесь к этому пункту максимально серьезно, это Вам нужно будет реализовать в задании.\n",
    " \n",
    "Проанализруйте итоговую формулу градиента - как  интуитивно можно  описать, чему равен градиент? Как соотносится этот градиент с градиентом, возникающий в задаче линейной регрессии?"
   ]
  },
  {
   "cell_type": "markdown",
   "metadata": {},
   "source": [
    "***Ваше решение здесь***\n",
    "\n",
    "Предсказание логистической модели:\n",
    "* $ p = \\frac{1}{1+\\exp(-Xw_{old})} $\n",
    "\n",
    "\n",
    "**Формула обновления весов**:\n",
    "$$ w_{new} = w_{old} - \\alpha(\\frac{1}{n} X^T (p - y) + \\lambda w_{old}) $$"
   ]
  },
  {
   "cell_type": "markdown",
   "metadata": {},
   "source": [
    "#### Задача 3. Точное решение линейной регрессии\n",
    "\n",
    "На лекции было показано, что точное решение линейной регрессии имеет вид $w = (X^TX)^{-1}X^TY $. \n",
    "* Покажите, что это действительно является точкой минимума в случае, если матрица X имеет строк не меньше, чем столбцов и имеет полный ранг. Подсказка: посчитайте Гессиан и покажите, что в этом случае он положительно определен. \n",
    "* Выпишите точное решение для модели с $L2$ регуляризацией"
   ]
  },
  {
   "cell_type": "markdown",
   "metadata": {},
   "source": [
    "***Ваше решение здесь***\n",
    "\n",
    "1. Точное решение линейной регрессии является минимумом:\n",
    " \n",
    "$$ nL(w) =  \\left\\lVert Xw - y \\right\\rVert ^ 2 = (Xw - y)^T(Xw - y) $$\n",
    "  \n",
    "$$ nL'(w) = ((Xw - y)^T(Xw - y))' = 2X^T(Xw - y) $$\n",
    "  \n",
    "$$ \\frac{nL''(w)}{2} = X^TX $$\n",
    "\n",
    "Рассмотрим сингулярное разложение матрицы $X$:\n",
    "$$ X = U S V^T$$\n",
    "\n",
    "Матрицы $U$ и $V$ состоят из левых и правых сингулярных векторов, являются унитарными. Матрица $S$ содержит на главное диагонали сингулярные числа, остальные коэффициенты равны 0. Подставим в $X^TX$ унитарное разложение $X$:\n",
    "$$ X^TX= V S^TS V^T $$\n",
    "\n",
    "Матрица $S^TS$ -- диагональная матрица, значения которой равны квадратами сингулярных чисел. Т.е. матрица $V$ состоит из собственных векторов матрицы $X^TX$. Если исходная матрица $X$ имела полный ранг, то все диагональные элементы матрицы $S$ ненулевые, и матрица $X^TX$ -- положительно определена.\n",
    "\n",
    "2. Точное решение для $L(w) =  \\frac{\\left\\lVert Xw - y \\right\\rVert ^ 2}{n} + w^T \\lambda w $:\n",
    "\n",
    "$$ L'(w) = \\frac{2}{n} X^T(Xw - y) + 2 \\lambda w = 0 $$\n",
    "\n",
    "$$w = (X^TX + n\\lambda)^{-1}X^Ty $$"
   ]
  },
  {
   "cell_type": "markdown",
   "metadata": {},
   "source": [
    "#### Задача 4.  Предсказываем вероятности.\n",
    "\n",
    "Когда говорят о логистической регрессии, произносят фразу, что она \"предсказывает вероятности положительного класса\". Давайте разберемся, что же за этим стоит. Посчитаем математическое ожидание функции потерь и проверим, что предсказание алгоритма, оптимизирующее это мат. ожидание, будет являться вероятностью положительного класса. \n",
    "\n",
    "И так, функция потерь на объекте $x_i$, который имеет метку $y_i \\in \\{0,1\\}$  для предсказания $a(x_i)$ равна:\n",
    "$$L(y_i, b) =-[y_i == 1] \\log a(x_i)  - [y_i == 0] \\log(1 - a(x_i)) $$\n",
    "\n",
    "Где $[]$ означает индикатор $-$ он равен единице, если значение внутри него истинно, иначе он равен нулю. Тогда мат. ожидание при условии конкретного $x_i$  по определение мат. ожидания дискретной случайной величины:\n",
    "$$E(L | x_i) = -p(y_i = 1 |x_i ) \\log a(x_i)  - p(y_i = 0 | x_i) \\log( 1 - a(x_i))$$\n",
    "* Докажите, что значение $a(x_i)$, минимизирующее данное мат. ожидание, в точности равно $p(y_i = 1 |x_i)$, то есть равно вероятности положительного класса.\n",
    "\n",
    "Подсказка: возможно, придется воспользоваться, что  $p(y_i = 1 | x_i) + p(y_i = 0 | x_i) = 1$\n",
    "\n",
    "#### Ваше решение здесь\n",
    "\n",
    "Если расматривать функцию потерь как зависимость от $x$, то получим следующее:\n",
    "$$ E'_a(L|x) = -\\frac{p'_x(x)}{a'_x(x)} \\log \\frac{a(x)}{1-a(x)} - \\frac{p(x)-a(x)}{a(x)(1-a(x))} $$\n",
    "\n",
    "Что с этим делать, непонятно...\n",
    "\n",
    "Если считать, что $p(y_i = 1 | x_i)$ и $a(x)$- это фиксированые значения $p$ и $a$ для $i$-th объекта, а не зависимость от $x$, то:\n",
    "$$ E'_a(L|x) = -\\frac{p-a}{a(1-a)} $$\n",
    "\n",
    "Минимум достигается при $a=p$."
   ]
  },
  {
   "cell_type": "markdown",
   "metadata": {},
   "source": [
    "#  Реализация линейной модели (5 баллов)"
   ]
  },
  {
   "cell_type": "markdown",
   "metadata": {},
   "source": [
    "## Зачем нужны батчи?\n"
   ]
  },
  {
   "cell_type": "markdown",
   "metadata": {},
   "source": [
    "Как Вы могли заметить из теоретического введения, что в случае SGD, что в случа mini-batch GD,  на каждой итерации обновление весов  происходит только по небольшой части данных (1 пример в случае SGD, batch примеров в случае mini-batch). То есть для каждой итерации нам *** не нужна вся выборка***. Мы можем просто итерироваться по выборке, беря батч нужного размера (далее 1 объект тоже будем называть батчом).\n",
    "\n",
    "Легко заметить, что в этом случае нам не нужно загружать все данные в оперативную память, достаточно просто считать батч с диска, обновить веса, считать диска другой батч и так далее. В целях упрощения домашней работы, прямо с диска  мы считывать не будем, будем работать с обычными numpy array. \n",
    "\n",
    "\n",
    "\n"
   ]
  },
  {
   "cell_type": "markdown",
   "metadata": {},
   "source": [
    "## Немножко про генераторы в Python\n",
    "\n"
   ]
  },
  {
   "cell_type": "markdown",
   "metadata": {},
   "source": [
    "Идея считывания данных кусками удачно ложится на так называемые ***генераторы*** из языка Python. В данной работе Вам предлагается не только разобраться с логистической регрессией, но  и познакомиться с таким важным элементом языка.  При желании Вы можете убрать весь код, связанный с генераторами, и реализовать логистическую регрессию и без них, ***штрафоваться это никак не будет***. Главное, чтобы сама модель была реализована правильно, и все пункты были выполнены. \n",
    "\n",
    "Подробнее можно почитать вот тут https://anandology.com/python-practice-book/iterators.html\n"
   ]
  },
  {
   "cell_type": "markdown",
   "metadata": {},
   "source": [
    "К генератору стоит относиться просто как к функции, которая порождает не один объект, а целую последовательность объектов. Новое значение из последовательности генерируется с помощью ключевого слова ***yield***. Ниже Вы можете насладиться  генератором чисел Фибоначчи."
   ]
  },
  {
   "cell_type": "code",
   "execution_count": 2,
   "metadata": {},
   "outputs": [],
   "source": [
    "def fib(max_iter=4):\n",
    "    a, b = 0, 1\n",
    "    iter_num = 0\n",
    "    while 1:\n",
    "        yield a\n",
    "        a, b = b, a + b\n",
    "        iter_num += 1\n",
    "        if iter_num == max_iter:\n",
    "            break"
   ]
  },
  {
   "cell_type": "markdown",
   "metadata": {},
   "source": [
    "Вот так можно сгенерировать последовательность Фибоначчи. \n",
    "\n",
    "Заметьте, что к генераторам можно применять некоторые стандартные функции из Python, например enumerate."
   ]
  },
  {
   "cell_type": "code",
   "execution_count": 3,
   "metadata": {},
   "outputs": [
    {
     "name": "stdout",
     "output_type": "stream",
     "text": [
      "Fib num: 0 fib values: 0\n",
      "Fib num: 1 fib values: 1\n",
      "Fib num: 2 fib values: 1\n",
      "Fib num: 3 fib values: 2\n"
     ]
    }
   ],
   "source": [
    "new_generator = fib()\n",
    "for j, fib_val in enumerate(new_generator):\n",
    "    print (\"Fib num: \" + str(j) + \" fib values: \" + str(fib_val))"
   ]
  },
  {
   "cell_type": "markdown",
   "metadata": {},
   "source": [
    "Пересоздавая объект, можно сколько угодно раз генерировать заново последовательность. "
   ]
  },
  {
   "cell_type": "code",
   "execution_count": 4,
   "metadata": {},
   "outputs": [
    {
     "name": "stdout",
     "output_type": "stream",
     "text": [
      "Fib num: 0 fib values: 0\n",
      "Fib num: 1 fib values: 1\n",
      "Fib num: 2 fib values: 1\n",
      "Fib num: 3 fib values: 2\n",
      "Fib num: 0 fib values: 0\n",
      "Fib num: 1 fib values: 1\n",
      "Fib num: 2 fib values: 1\n",
      "Fib num: 3 fib values: 2\n",
      "Fib num: 0 fib values: 0\n",
      "Fib num: 1 fib values: 1\n",
      "Fib num: 2 fib values: 1\n",
      "Fib num: 3 fib values: 2\n"
     ]
    }
   ],
   "source": [
    "for i in range(0, 3):\n",
    "    new_generator = fib()\n",
    "    for j, fib_val in enumerate(new_generator):\n",
    "        print (\"Fib num: \" + str(j) + \" fib values: \" + str(fib_val))"
   ]
  },
  {
   "cell_type": "markdown",
   "metadata": {},
   "source": [
    "А вот так уже нельзя."
   ]
  },
  {
   "cell_type": "code",
   "execution_count": 5,
   "metadata": {},
   "outputs": [
    {
     "name": "stdout",
     "output_type": "stream",
     "text": [
      "Fib num: 0 fib values: 0\n",
      "Fib num: 1 fib values: 1\n",
      "Fib num: 2 fib values: 1\n",
      "Fib num: 3 fib values: 2\n"
     ]
    }
   ],
   "source": [
    "new_generator = fib()\n",
    "for i in range(0, 3):\n",
    "    for j, fib_val in enumerate(new_generator):\n",
    "        print (\"Fib num: \" + str(j) + \" fib values: \" + str(fib_val))"
   ]
  },
  {
   "cell_type": "markdown",
   "metadata": {},
   "source": [
    "Концепция крайне удобная для обучения  моделей $-$ у Вас есть некий источник данных, который Вам выдает их кусками, и Вам совершенно все равно откуда он их берет. Под ним может скрывать как массив в оперативной памяти, как файл на жестком диске, так и SQL база данных. Вы сами данные никуда не сохраняете, оперативную память экономите."
   ]
  },
  {
   "cell_type": "markdown",
   "metadata": {},
   "source": [
    "Если Вам понравилась идея с генераторами, то Вы можете реализовать свой, используя прототип batch_generator. В нем Вам нужно выдавать батчи признаков и ответов для каждой новой итерации спуска. Если не понравилась идея, то можете реализовывать SGD или mini-batch GD без генераторов."
   ]
  },
  {
   "cell_type": "code",
   "execution_count": 2,
   "metadata": {},
   "outputs": [],
   "source": [
    "def batch_generator(X, y, shuffle=True, batch_size=1):\n",
    "    \"\"\"\n",
    "    Гератор новых батчей для обучения\n",
    "    X          - матрица объекты-признаки\n",
    "    y_batch    - вектор ответов\n",
    "    shuffle    - нужно ли случайно перемешивать выборку\n",
    "    batch_size - размер батча ( 1 это SGD, > 1 mini-batch GD)\n",
    "    Генерирует подвыборку для итерации спуска (X_batch, y_batch)\n",
    "    \"\"\"\n",
    "    num = X.shape[0]\n",
    "    if shuffle:\n",
    "        order = np.random.permutation(num)\n",
    "    else:\n",
    "        order = np.arange(num)\n",
    "            \n",
    "    X_batch = None\n",
    "    y_batch = None\n",
    "    for i in range(0, num, batch_size):\n",
    "        X_batch = X[order[i:i+batch_size]]\n",
    "        y_batch = y[order[i:i+batch_size]]\n",
    "        yield (X_batch, y_batch)\n",
    "\n",
    "# Теперь можно сделать генератор по данным ()\n",
    "#  my_batch_generator = batch_generator(X, y, shuffle=True, batch_size=1):"
   ]
  },
  {
   "cell_type": "code",
   "execution_count": 4,
   "metadata": {},
   "outputs": [],
   "source": [
    "#%%pycodestyle\n",
    "\n",
    "\n",
    "from sklearn.base import BaseEstimator, ClassifierMixin\n",
    "from numba import jit\n",
    "\n",
    "\n",
    "# compile magic for higher performance\n",
    "autojit = jit(nopython=True)\n",
    "\n",
    "\n",
    "def sigmoid(x):\n",
    "    \"\"\"\n",
    "    Вычисляем значение сигмоида.\n",
    "    X - выход линейной модели\n",
    "    \"\"\"\n",
    "\n",
    "    return 1 / (1 + np.exp(-x))\n",
    "\n",
    "\n",
    "def lin_predict(X, w):\n",
    "    return np.dot(X, w)\n",
    "\n",
    "\n",
    "def lin_calc_loss(X, y, w, C):\n",
    "    n = X.shape[0]\n",
    "    d = y - np.dot(X, w)\n",
    "    return np.dot(d, d)/n + np.dot(w[1:], w[1:])/C\n",
    "\n",
    "\n",
    "def lin_calc_loss_grad(X, y, w, C):\n",
    "    n = X.shape[0]\n",
    "    g = X.T @ (np.dot(X, w) - y)/n + w/C\n",
    "    g[0] -= w[0]/C\n",
    "    return g\n",
    "\n",
    "\n",
    "def log_predict(X, w):\n",
    "    return 1 / (1 + np.exp(-np.dot(X, w)))\n",
    "\n",
    "\n",
    "def log_calc_loss(X, y, w, C):\n",
    "    n = X.shape[0]\n",
    "    p = 1/(1 + np.exp(-np.dot(X, w)))\n",
    "    d = -y * np.log(p) - (1-y)*np.log(1-p)\n",
    "    return np.sum(d)/n + np.dot(w[1:], w[1:])/C\n",
    "\n",
    "\n",
    "def log_calc_loss_grad(X, y, w, C):\n",
    "    n = X.shape[0]\n",
    "    d = 1/(1 + np.exp(-np.dot(X, w))) - y\n",
    "    g = (X.T @ d)/n + w/C\n",
    "    g[0] -= w[0]/C\n",
    "    return g\n",
    "\n",
    "\n",
    "def prepend_ones(X):\n",
    "    n = X.shape[0]\n",
    "    return np.hstack((np.ones(shape=(n, 1)), X))"
   ]
  },
  {
   "cell_type": "code",
   "execution_count": 19,
   "metadata": {},
   "outputs": [],
   "source": [
    "#%%pycodestyle\n",
    "\n",
    "\n",
    "class MySGDClassifier(BaseEstimator, ClassifierMixin):\n",
    "\n",
    "    def __init__(self, batch_generator=batch_generator,\n",
    "                 C=1, alpha=0.01, max_epoch=10,\n",
    "                 model_type='lin_reg', jit=True, batch_size=1,\n",
    "                 count_loss=True, epoch_loss=True):\n",
    "        \"\"\"\n",
    "        batch_generator -- функция генератор, которой будем создавать батчи\n",
    "        C - коэф. регуляризации\n",
    "        alpha - скорость спуска\n",
    "        max_epoch - максимальное количество эпох\n",
    "        model_type - тим модели, lin_reg или log_reg\n",
    "        jit - использовать компиляцию для predict, calc_loss, calc_loss_grad\n",
    "        batch_size - размер батча для итерации обновления весов\n",
    "        count_loss - подсчет loss'а во время обучения\n",
    "        epoch_loss - считать loss после завершения эпохи\n",
    "        \"\"\"\n",
    "\n",
    "        self.C = C\n",
    "        self.alpha = alpha\n",
    "        self.max_epoch = max_epoch\n",
    "        self.batch_generator = batch_generator\n",
    "        self.batch_size = batch_size\n",
    "        self.errors_log = {'iter': [], 'loss': []}\n",
    "        self.model_type = model_type\n",
    "        self.count_loss = count_loss\n",
    "        self.epoch_loss = epoch_loss\n",
    "\n",
    "        t = type(batch_size)\n",
    "        if t is not int:\n",
    "            raise TypeError(f\"batch_size type {t} isn't int\")\n",
    "        if batch_size < 1:\n",
    "            raise ValueError(f'batch_size {batch_size} must be nonnegative')\n",
    "\n",
    "        if model_type == 'lin_reg':\n",
    "            predict = lin_predict\n",
    "            calc_loss = lin_calc_loss\n",
    "            calc_loss_grad = lin_calc_loss_grad\n",
    "        elif model_type == 'log_reg':\n",
    "            predict = log_predict\n",
    "            calc_loss = log_calc_loss\n",
    "            calc_loss_grad = log_calc_loss_grad\n",
    "        else:\n",
    "            raise ValueError(f'model type error: {model_type} value incorrect')\n",
    "\n",
    "        if jit:\n",
    "            predict = autojit(predict)\n",
    "            calc_loss = autojit(calc_loss)\n",
    "            calc_loss_grad = autojit(calc_loss_grad)\n",
    "\n",
    "        self._predict = predict\n",
    "        self._calc_loss = calc_loss\n",
    "        self._calc_loss_grad = calc_loss_grad\n",
    "\n",
    "    def calc_loss(self, X_batch, y_batch):\n",
    "        \"\"\"\n",
    "        Считаем функцию потерь по батчу\n",
    "        X_batch - матрица объекты-признаки по батчу\n",
    "        y_batch - вектор ответов по батчу\n",
    "        Не забудте тип модели (линейная или логистическая регрессия)!\n",
    "        \"\"\"\n",
    "\n",
    "        return self._calc_loss(X_batch, y_batch, self.weights, self.C)\n",
    "\n",
    "    def calc_loss_grad(self, X_batch, y_batch):\n",
    "        \"\"\"\n",
    "        Считаем  градиент функции потерь по батчу\n",
    "        X_batch - матрица объекты-признаки по батчу\n",
    "        y_batch - вектор ответов по батчу\n",
    "        Не забудте тип модели (линейная или логистическая регрессия)!\n",
    "        \"\"\"\n",
    "\n",
    "        return self._calc_loss_grad(X_batch, y_batch, self.weights, self.C)\n",
    "\n",
    "    def update_weights(self, new_grad):\n",
    "        \"\"\"\n",
    "        Обновляем вектор весов\n",
    "        new_grad - градиент по батчу\n",
    "        \"\"\"\n",
    "\n",
    "        self.weights = self.weights - self.alpha * new_grad\n",
    "\n",
    "    def fit(self, X, y):\n",
    "        '''\n",
    "        Обучение модели\n",
    "        X - матрица объекты-признаки\n",
    "        y - вектор ответов\n",
    "        '''\n",
    "\n",
    "        # Нужно инициализровать случайно веса\n",
    "        self.weights = np.random.uniform(size=X.shape[1] + 1)\n",
    "        X = prepend_ones(X)\n",
    "\n",
    "        for n in range(0, self.max_epoch):\n",
    "            new_epoch_generator = self.batch_generator(X, y, self.batch_size)\n",
    "            for batch_num, new_batch in enumerate(new_epoch_generator):\n",
    "                X_batch = new_batch[0]\n",
    "                y_batch = new_batch[1]\n",
    "                batch_grad = self.calc_loss_grad(X_batch, y_batch)\n",
    "                if self.count_loss and not self.epoch_loss:\n",
    "                    batch_loss = self.calc_loss(X_batch, y_batch)\n",
    "                    self.errors_log['iter'].append(batch_num)\n",
    "                    self.errors_log['loss'].append(batch_loss)\n",
    "                self.update_weights(batch_grad)\n",
    "            if self.count_loss and self.epoch_loss:\n",
    "                loss = self.calc_loss(X, y)\n",
    "                self.errors_log['iter'].append(n)\n",
    "                self.errors_log['loss'].append(loss)\n",
    "\n",
    "        return self\n",
    "\n",
    "    def predict(self, X):\n",
    "        '''\n",
    "        Предсказание класса\n",
    "        X - матрица объекты-признаки\n",
    "        Не забудте тип модели (линейная или логистическая регрессия)!\n",
    "        '''\n",
    "\n",
    "        # Желательно здесь использовать матричные операции между X и весами\n",
    "        # например, numpy.dot\n",
    "        return self._predict(prepend_ones(X), self.weights)\n"
   ]
  },
  {
   "cell_type": "markdown",
   "metadata": {},
   "source": [
    "Запустите обе регрессии на синтетических данных. \n",
    "\n",
    "\n",
    "Выведите полученные веса и нарисуйте разделяющую границу между классами (используйте только первых два веса для первых двух признаков X[:,0], X[:,1] для отображения в 2d пространство ).  "
   ]
  },
  {
   "cell_type": "code",
   "execution_count": 22,
   "metadata": {},
   "outputs": [],
   "source": [
    "def get_decision_boundary(clf, borders=None, value=0, num=101):\n",
    "    '''\n",
    "    Постраение прямой, на которой w0+x[0]w1+x[1]w2==value\n",
    "    borders - область, в которой должна проходить прямая\n",
    "    value - разграничивающее значение\n",
    "    num - количество точек\n",
    "    '''\n",
    "\n",
    "    eps = 1e-5\n",
    "    if not hasattr(clf, 'weights') or clf.weights.shape[0] < 3:\n",
    "        return None\n",
    "\n",
    "    if borders is None:\n",
    "        borders = np.array([[-1., 1.], [-1., 1.]])\n",
    "    (xl, xr), (yl, yr) = borders\n",
    "\n",
    "    w0, w1, w2 = clf.weights[:3]\n",
    "    w0 -= value\n",
    "    if -eps < w1 and w1 < eps:\n",
    "        d = (xr-xl) / (num-1)\n",
    "        x = np.arange(xl, xr + d/2, d)\n",
    "        y = -(w0 + w1 * x) / w2\n",
    "    elif -eps < w2 and w2 < eps:\n",
    "        d = (yr - yl) / (num-1)\n",
    "        y = np.arange(yl, yr + d/2, d)\n",
    "        x = -(w0 + w2 * y) / w1\n",
    "    else:\n",
    "        y1 = -(w0 + xl*w1) / w2\n",
    "        y2 = -(w0 + xr*w1) / w2\n",
    "        x1 = -(w0 + yl*w2) / w1\n",
    "        x2 = -(w0 + yr*w2) / w1\n",
    "\n",
    "        if yl <= y1 and y1 <= yr:\n",
    "            x1 = xl\n",
    "        elif x1 < xl-eps or xr < x1+eps:\n",
    "            return None\n",
    "\n",
    "        y2 = -(w0 + xr*w1) / w2\n",
    "        x2 = -(w0 + yr*w2) / w1\n",
    "        if yl <= y2 and y2 <= yr:\n",
    "            x2 = xr\n",
    "        elif x2 < xl-eps or xr < x2+eps:\n",
    "            return None\n",
    "\n",
    "        d = (x2-x1) / (num-1)\n",
    "        x = np.arange(x1, x2 + d/2, d)\n",
    "        y = -(w0 + x*w1) / w2\n",
    "    return (x, y)\n",
    "\n",
    "def plot_decision_boundary(clf, borders=None, value=0, **kwargs):\n",
    "    '''\n",
    "    Отрисовка границы.\n",
    "    borders - область, в которой должна проходить прямая\n",
    "    value - разграничивающее значение\n",
    "    kwargs - дополнительные аргументы, передаваемые в вызов plt.plot\n",
    "    '''\n",
    "\n",
    "    points = get_decision_boundary(clf, borders, value, 3)\n",
    "    if points is not None:\n",
    "        plt.plot(points[0], points[1], **kwargs)"
   ]
  },
  {
   "cell_type": "code",
   "execution_count": 20,
   "metadata": {},
   "outputs": [
    {
     "data": {
      "image/png": "[encoded data removed]",
      "text/plain": [
       "<Figure size 432x288 with 1 Axes>"
      ]
     },
     "metadata": {},
     "output_type": "display_data"
    }
   ],
   "source": [
    "#%%pycodestyle\n",
    "\n",
    "\n",
    "np.random.seed(0)\n",
    "N = 200\n",
    "alpha = 0.003\n",
    "C = 10\n",
    "epochs = 100\n",
    "batch_size = 10\n",
    "\n",
    "C1 = np.array([[0., -0.8], [1.5, 0.8]])\n",
    "C2 = np.array([[1., -0.7], [2., 0.7]])\n",
    "gauss1 = np.dot(np.random.randn(N, 2) + np.array([5, 3]), C1)\n",
    "gauss2 = np.dot(np.random.randn(N, 2) + np.array([1.5, 0]), C2)\n",
    "\n",
    "X = np.vstack([gauss1, gauss2])\n",
    "y = np.r_[np.ones(N), np.zeros(N)]\n",
    "\n",
    "lin_clf = MySGDClassifier(batch_generator=batch_generator,\n",
    "                          model_type='lin_reg',\n",
    "                          alpha=alpha,\n",
    "                          C=C,\n",
    "                          max_epoch=epochs,\n",
    "                          batch_size=batch_size,\n",
    "                          count_loss=True,\n",
    "                          epoch_loss=True,\n",
    "                          jit=True)  # 1.7x speed increase in fit\n",
    "lin_clf.fit(X, 2*y-1)\n",
    "\n",
    "log_clf = MySGDClassifier(batch_generator=batch_generator,\n",
    "                          model_type='log_reg',\n",
    "                          alpha=alpha,\n",
    "                          C=C*4,\n",
    "                          max_epoch=epochs,\n",
    "                          batch_size=batch_size,\n",
    "                          count_loss=True,\n",
    "                          epoch_loss=True,\n",
    "                          jit=True)  # 2x speed increase in fit\n",
    "log_clf.fit(X, y)\n",
    "\n",
    "plt.plot(lin_clf.errors_log['loss'], label='lin')\n",
    "plt.plot(log_clf.errors_log['loss'], label='log')\n",
    "plt.legend()\n",
    "\n",
    "pass"
   ]
  },
  {
   "cell_type": "code",
   "execution_count": 23,
   "metadata": {},
   "outputs": [
    {
     "data": {
      "image/png": "[encoded data removed]",
      "text/plain": [
       "<Figure size 432x288 with 1 Axes>"
      ]
     },
     "metadata": {},
     "output_type": "display_data"
    }
   ],
   "source": [
    "boundary = ((np.min(X[:, 0]), np.max(X[:, 0])),\n",
    "            (np.min(X[:, 1]), np.max(X[:, 1])))\n",
    "plot_decision_boundary(lin_clf, boundary, 0, label='lin')\n",
    "plot_decision_boundary(log_clf, boundary, 0, label='log')\n",
    "\n",
    "plt.scatter(X[:,0], X[:,1], c=y)\n",
    "plt.legend()\n",
    "\n",
    "pass"
   ]
  },
  {
   "cell_type": "markdown",
   "metadata": {},
   "source": [
    "Далее будем анализировать Ваш алгоритм. \n",
    "Для этих заданий используйте датасет ниже."
   ]
  },
  {
   "cell_type": "code",
   "execution_count": 24,
   "metadata": {},
   "outputs": [],
   "source": [
    "from sklearn.datasets import make_classification"
   ]
  },
  {
   "cell_type": "code",
   "execution_count": 39,
   "metadata": {},
   "outputs": [],
   "source": [
    "# reduced in 10 times\n",
    "X, y = make_classification(n_samples=10000, n_features=10, \n",
    "                           n_informative=4, n_redundant=0, \n",
    "                           random_state=123, class_sep=1.0,\n",
    "                           n_clusters_per_class=1)"
   ]
  },
  {
   "cell_type": "markdown",
   "metadata": {},
   "source": [
    "Покажите сходимости обеих регрессией на этом датасете: изобразите график  функции потерь, усредненной по $N$ шагам градиентого спуска, для разных `alpha` (размеров шага). Разные `alpha` расположите на одном графике. \n",
    "\n",
    "$N$ можно брать 10, 50, 100 и т.д. "
   ]
  },
  {
   "cell_type": "code",
   "execution_count": 40,
   "metadata": {},
   "outputs": [
    {
     "name": "stdout",
     "output_type": "stream",
     "text": [
      "|||#\n",
      "|||#\n",
      "|||#\n",
      "|||#\n",
      "|||#\n",
      "|||#\n",
      "|||#\n",
      "|||#\n",
      "|||#\n",
      "|||#\n",
      "Done in 41.62 s\n"
     ]
    }
   ],
   "source": [
    "from time import time\n",
    "\n",
    "\n",
    "def get_avg_loss(clf, X, y, N, agg):\n",
    "    for i in range(N):\n",
    "        clf.fit(X, y)\n",
    "        print('|', end='')\n",
    "    print('#')\n",
    "    stat = np.array(clf.errors_log['loss']).reshape(N, -1, agg)\n",
    "    return stat.mean(axis=2).mean(axis=0)\n",
    "\n",
    "N = 3\n",
    "agg = 100\n",
    "epoch = 10\n",
    "C = 10\n",
    "batch_size = 10\n",
    "alphas = np.logspace(-2, -4, 5)\n",
    "\n",
    "lin_stat = []\n",
    "log_stat = []\n",
    "t = time()\n",
    "for alpha in alphas:\n",
    "    lin_clf = MySGDClassifier(batch_generator=batch_generator,\n",
    "                              batch_size=batch_size,\n",
    "                              model_type='lin_reg',\n",
    "                              count_loss=True, epoch_loss=False,\n",
    "                              alpha=alpha, C=C, max_epoch=epoch)\n",
    "    lin_stat.append(get_avg_loss(lin_clf, X, 2*y-1, N, agg))\n",
    "    \n",
    "    log_clf = MySGDClassifier(batch_generator=batch_generator,\n",
    "                              batch_size=batch_size,\n",
    "                              model_type='log_reg',\n",
    "                              count_loss=True, epoch_loss=False,\n",
    "                              alpha=alpha, C=C, max_epoch=epoch)\n",
    "    log_stat.append(get_avg_loss(log_clf, X, y, N, agg))\n",
    "t = time() - t\n",
    "print(f'Done in {t:.2f} s')"
   ]
  },
  {
   "cell_type": "code",
   "execution_count": 41,
   "metadata": {},
   "outputs": [
    {
     "data": {
      "image/png": "[encoded data removed]",
      "text/plain": [
       "<Figure size 1008x720 with 2 Axes>"
      ]
     },
     "metadata": {},
     "output_type": "display_data"
    }
   ],
   "source": [
    "fig = plt.figure(figsize=(14,10))\n",
    "\n",
    "step=1\n",
    "\n",
    "fig.add_subplot(211)\n",
    "for a, stat in zip(alphas[::step], lin_stat[::step]):\n",
    "    plt.plot(-np.log(stat), label=f'{a:.4f}', alpha=0.4)\n",
    "\n",
    "plt.legend()\n",
    "\n",
    "fig.add_subplot(212)\n",
    "for a, stat in zip(alphas[::step], log_stat[::step]):\n",
    "    plt.plot(-np.log(stat), label=f'{a:.4f}', alpha=0.4)\n",
    "plt.legend()\n",
    "\n",
    "pass"
   ]
  },
  {
   "cell_type": "markdown",
   "metadata": {},
   "source": [
    "Что Вы можете сказать про сходимость метода при различных `alpha`? Какое значение стоит выбирать для лучшей сходимости?"
   ]
  },
  {
   "cell_type": "markdown",
   "metadata": {},
   "source": [
    "Изобразите график среднего значения весов для обеих регрессий в зависимости от коеф. регуляризации С из `np.logspace(3, -3, 10)` "
   ]
  },
  {
   "cell_type": "code",
   "execution_count": 16,
   "metadata": {},
   "outputs": [
    {
     "name": "stdout",
     "output_type": "stream",
     "text": [
      "########################################\n",
      "Done in 169.48 s\n"
     ]
    }
   ],
   "source": [
    "from time import time\n",
    "\n",
    "def get_avg_weigth(clf, X, y, N):\n",
    "    stat = []\n",
    "    for i in range(N):\n",
    "        clf.fit(X, y)\n",
    "        stat.append(clf.weights[1:])\n",
    "    print(end='#')\n",
    "    return np.average(np.abs(np.array(stat)))\n",
    "\n",
    "N = 3\n",
    "epoch = 10\n",
    "alpha = .0001\n",
    "C = np.logspace(3, -3, 20)\n",
    "\n",
    "lin_stat = []\n",
    "log_stat = []\n",
    "t = time()\n",
    "for c in C:\n",
    "    lin_clf = MySGDClassifier(batch_generator=batch_generator,\n",
    "                              batch_size=100,\n",
    "                              model_type='lin_reg',\n",
    "                              alpha=alpha, C=c, max_epoch=epoch)\n",
    "    lin_stat.append(get_avg_weigth(lin_clf, X, 2*y-1, N))\n",
    "    \n",
    "    log_clf = MySGDClassifier(batch_generator=batch_generator,\n",
    "                              batch_size=100,\n",
    "                              model_type='log_reg',\n",
    "                              alpha=alpha, C=c, max_epoch=epoch)\n",
    "    log_stat.append(get_avg_weigth(log_clf, X, y, N))\n",
    "t = time() - t\n",
    "print()\n",
    "\n",
    "lin_stat = np.array(lin_stat)\n",
    "log_stat = np.array(log_stat)\n",
    "print(f'Done in {t:.2f} s')"
   ]
  },
  {
   "cell_type": "code",
   "execution_count": 17,
   "metadata": {},
   "outputs": [
    {
     "data": {
      "image/png": "[encoded data removed]",
      "text/plain": [
       "<Figure size 1008x360 with 1 Axes>"
      ]
     },
     "metadata": {},
     "output_type": "display_data"
    }
   ],
   "source": [
    "fig = plt.figure(figsize=(14,5))\n",
    "\n",
    "plt.plot(np.log(C), np.log(lin_stat), label='lin')\n",
    "plt.plot(np.log(C), np.log(log_stat), label='log')\n",
    "plt.legend()\n",
    "p\n",
    "pass"
   ]
  },
  {
   "cell_type": "markdown",
   "metadata": {},
   "source": [
    "Довольны ли Вы, насколько сильно уменьшились Ваши веса? "
   ]
  },
  {
   "cell_type": "markdown",
   "metadata": {},
   "source": [
    "# Боевое применение (3  балла)"
   ]
  },
  {
   "cell_type": "markdown",
   "metadata": {},
   "source": [
    "Давайте применим модель на итоговом проекте! Датасет сделаем точно таким же образом, как было показано в project_overview-2.ipynb\n",
    "\n",
    "Применим обе регрессии, подберем для них параметры и сравним качество. Может быть Вы еще одновременно с решением домашней работы подрастете на лидерборде!"
   ]
  },
  {
   "cell_type": "code",
   "execution_count": 8,
   "metadata": {},
   "outputs": [
    {
     "name": "stdout",
     "output_type": "stream",
     "text": [
      "28026\n"
     ]
    }
   ],
   "source": [
    "doc_to_title = {}\n",
    "with open('docs_titles.tsv') as f:\n",
    "    for num_line, line in enumerate(f):\n",
    "        if num_line == 0:\n",
    "            continue\n",
    "        data = line.strip().split('\\t', 1)\n",
    "        doc_id = int(data[0])\n",
    "        if len(data) == 1:\n",
    "            title = ''\n",
    "        else:\n",
    "            title = data[1]\n",
    "        doc_to_title[doc_id] = title\n",
    "print (len(doc_to_title))\n"
   ]
  },
  {
   "cell_type": "code",
   "execution_count": 9,
   "metadata": {},
   "outputs": [],
   "source": [
    "import pandas as pd\n",
    "import numpy as np\n",
    "import nltk\n",
    "\n",
    "from sklearn.metrics import f1_score\n",
    "from sklearn.linear_model import LinearRegression, LogisticRegression, SGDClassifier\n",
    "from sklearn.preprocessing import StandardScaler\n",
    "from sklearn.model_selection import train_test_split\n",
    "\n",
    "from itertools import product\n",
    "\n",
    "\n",
    "stemmer = nltk.stem.snowball.RussianStemmer()\n",
    "\n",
    "def staticvars(**kwargs):\n",
    "    def decorate(func):\n",
    "        for k, v in kwargs.items():\n",
    "            setattr(func, k, v)\n",
    "        return func\n",
    "    return decorate\n",
    "\n",
    "\n",
    "def extract_titledata(filename, default_target=None):\n",
    "    data = pd.read_csv(filename)\n",
    "    titledata = {}\n",
    "    for i in range(len(data)):\n",
    "        new_doc = data.iloc[i]\n",
    "        doc_group = new_doc['group_id']\n",
    "        doc_id = new_doc['doc_id']\n",
    "        title = set(doc_to_title[doc_id].lower().strip().split())\n",
    "        title = set(stemmer.stem(s) for s in title)\n",
    "        if default_target is not None:\n",
    "            target = default_target\n",
    "        else:\n",
    "            target = new_doc['target']\n",
    "        pair_id = new_doc['pair_id']\n",
    "        if doc_group not in titledata:\n",
    "            titledata[doc_group] = []\n",
    "        titledata[doc_group].append((doc_id, title, target, pair_id))\n",
    "    return titledata \n",
    "\n",
    "\n",
    "@staticvars(a=15, b=8)\n",
    "def extract_data(titledata):\n",
    "    y = []\n",
    "    X = []\n",
    "    groups = []\n",
    "    ids = []\n",
    "    for new_group in titledata:\n",
    "        docs = titledata[new_group]\n",
    "        for k, (doc_id, title, target_id, pair_id) in enumerate(docs):\n",
    "            y.append(target_id)\n",
    "            groups.append(new_group)\n",
    "            ids.append(pair_id)\n",
    "            all_dist = []\n",
    "            words = set(w for w in title if len(w) > 1)\n",
    "            #words = title\n",
    "            wstats = {w:0 for w in words}\n",
    "            for j in range(0, len(docs)):\n",
    "                if k == j:\n",
    "                    continue\n",
    "                doc_id_j, title_j, target_j, _ = docs[j]\n",
    "                words_j = title_j\n",
    "                inter = words.intersection(words_j)\n",
    "                for w in inter:\n",
    "                    wstats[w] += 1\n",
    "                all_dist.append(len(inter))\n",
    "            a = sorted(all_dist, reverse=True)[0:extract_data.a]\n",
    "            b = sorted(map(len, words), reverse=True)[:extract_data.b]\n",
    "            b += [0]*(extract_data.b-len(b))\n",
    "            X.append(a+b)\n",
    "    X = np.array(X)\n",
    "    y = np.array(y)\n",
    "    groups = np.array(groups)\n",
    "    ids = np.array(ids)\n",
    "    return X, y, groups, ids\n",
    "\n",
    "\n",
    "def cut_X_features(X, a, b):\n",
    "    l = extract_data.a\n",
    "    return np.hstack((X[:, :a], X[:, l:l+b]))\n",
    "\n",
    "\n",
    "def save_results(pair_id, predict, name='submission2.csv'):\n",
    "    res = pd.DataFrame(data={'pair_id': pair_id, 'target': np.asarray(predict, dtype=int)})\n",
    "    res = res.set_index('pair_id')\n",
    "    res.to_csv(name)\n",
    "\n",
    "\n",
    "def my_split(X, y, groups, test_size=0.1, a=extract_data.a, b=extract_data.b):\n",
    "    groups_cnt = np.bincount(groups) \n",
    "    # gid in [1,n]. so drop 0, then shift to 1 \n",
    "    order = np.random.permutation(len(groups_cnt)-1) + 1\n",
    "    cnt = 0\n",
    "    limit = X.shape[0] * test_size\n",
    "    mask = np.array([False] * X.shape[0])\n",
    "    for gid in order:\n",
    "        mask = mask | (groups == gid)\n",
    "        cnt += groups_cnt[gid]\n",
    "        if cnt >= limit:\n",
    "            break\n",
    "\n",
    "    X = cut_X_features(X, a, b)\n",
    "\n",
    "    X_train, y_train = X[mask], y[mask]\n",
    "    X_test, y_test = X[~mask], y[~mask]\n",
    "    return X_train, X_test, y_train, y_test\n",
    "\n",
    "\n",
    "def process_stats(stats, output=True):\n",
    "    mean, std = stats.mean(), stats.std()\n",
    "    min, max = stats.min(), stats.max()\n",
    "    if output:\n",
    "        print(f'mean {mean:.3f} std {std:.3f} min {min:.3f}')\n",
    "    return (mean, std, min)\n",
    "\n",
    "\n",
    "def print_stats(mean, std, min):\n",
    "    print(f'mean {mean:.3f} std {std:.3f} min {min:.3f}')"
   ]
  },
  {
   "cell_type": "code",
   "execution_count": 10,
   "metadata": {},
   "outputs": [
    {
     "name": "stdout",
     "output_type": "stream",
     "text": [
      "(11690, 23) (11690,) (11690,)\n",
      "(16627, 23) (16627,) (16627,) (16627,)\n"
     ]
    },
    {
     "name": "stderr",
     "output_type": "stream",
     "text": [
      "/usr/local/lib64/python3.6/site-packages/sklearn/utils/validation.py:595: DataConversionWarning: Data with input dtype int64 was converted to float64 by StandardScaler.\n",
      "  warnings.warn(msg, DataConversionWarning)\n",
      "/usr/local/lib64/python3.6/site-packages/sklearn/utils/validation.py:595: DataConversionWarning: Data with input dtype int64 was converted to float64 by StandardScaler.\n",
      "  warnings.warn(msg, DataConversionWarning)\n",
      "/usr/local/lib64/python3.6/site-packages/sklearn/utils/validation.py:595: DataConversionWarning: Data with input dtype int64 was converted to float64 by StandardScaler.\n",
      "  warnings.warn(msg, DataConversionWarning)\n"
     ]
    }
   ],
   "source": [
    "traingroups = extract_titledata('train_groups.csv')\n",
    "X_train, y_train, groups_train, _ = extract_data(traingroups)\n",
    "print(X_train.shape, y_train.shape, groups_train.shape)\n",
    "\n",
    "testgroups = extract_titledata('test_groups.csv', 0)\n",
    "X_test, y_test, groups_test, docs_test = extract_data(testgroups)\n",
    "print(X_test.shape, y_test.shape, groups_test.shape, docs_test.shape)\n",
    "\n",
    "scaler = StandardScaler()\n",
    "X, y = scaler.fit_transform(X_train, y_train), y_train\n",
    "X_ = scaler.transform(X_test)"
   ]
  },
  {
   "cell_type": "markdown",
   "metadata": {},
   "source": [
    "Подберите размер батча для обучения. Линейная модель не должна учиться дольше нескольких минут. \n",
    "\n",
    "Не забывайте использовать скейлер!"
   ]
  },
  {
   "cell_type": "code",
   "execution_count": 24,
   "metadata": {},
   "outputs": [
    {
     "name": "stdout",
     "output_type": "stream",
     "text": [
      "|||||||||||||||||||||||||||||||||||||||||||||||||||||||||||||||||||||||||||||||||||||||||||||||||||#\n",
      "Done in 166.10 s\n"
     ]
    }
   ],
   "source": [
    "N = 255\n",
    "_a = np.array(range(5, 16, 1))\n",
    "_b = np.array(range(0, 9, 1))\n",
    "\n",
    "validation = []\n",
    "t = time()\n",
    "clf = LinearRegression(fit_intercept=False)\n",
    "for a, b in product(_a, _b):\n",
    "    stats = np.zeros(N)\n",
    "    for i in range(N):\n",
    "        X1, X2, y1, y2 = my_split(X, 2*y-1, groups_train, 0.2, a, b)\n",
    "        y3 = 2*(clf.fit(X1, 2*y1-1).predict(X2) > 0)-1\n",
    "        stats[i] = f1_score(y2, y3)\n",
    "    validation.append((process_stats(stats, False), (a, b)))\n",
    "    print(end='|')\n",
    "print('#')\n",
    "\n",
    "t = time() - t\n",
    "print(f'Done in {t:.2f} s')"
   ]
  },
  {
   "cell_type": "code",
   "execution_count": 25,
   "metadata": {},
   "outputs": [
    {
     "name": "stdout",
     "output_type": "stream",
     "text": [
      " 5  5: mean 0.660 std 0.018 min 0.597\n",
      "       mean 0.666 std 0.014 min 0.620\n",
      "\n",
      " 5  8: mean 0.660 std 0.020 min 0.587\n",
      "       mean 0.666 std 0.015 min 0.593\n",
      "\n",
      " 5  6: mean 0.660 std 0.018 min 0.594\n",
      "       mean 0.666 std 0.015 min 0.616\n",
      "\n",
      " 6  7: mean 0.659 std 0.019 min 0.577\n",
      "       mean 0.666 std 0.016 min 0.596\n",
      "\n",
      " 5  4: mean 0.659 std 0.015 min 0.608\n",
      "       mean 0.663 std 0.015 min 0.596\n",
      "\n",
      " 5  7: mean 0.659 std 0.021 min 0.562\n",
      "       mean 0.667 std 0.015 min 0.608\n",
      "\n",
      " 6  8: mean 0.658 std 0.019 min 0.599\n",
      "       mean 0.665 std 0.015 min 0.619\n",
      "\n"
     ]
    }
   ],
   "source": [
    "best = sorted(validation, reverse=True)[:7]\n",
    "\n",
    "N = 1023\n",
    "clf = LinearRegression(fit_intercept=False)\n",
    "for stat, (a, b) in best:\n",
    "    pref = f'{a:2d} {b:2d}: '\n",
    "    print(end=pref)\n",
    "    print_stats(*stat)\n",
    "\n",
    "    stats = np.zeros(N)\n",
    "    for i in range(N):\n",
    "        X1, X2, y1, y2 = my_split(X, 2*y-1, groups_train, 0.2, a, b)\n",
    "        y3 = 2*(clf.fit(X1, y1).predict(X2) > 0)-1\n",
    "        stats[i] = f1_score(y2, y3)\n",
    "    print(end=' '*len(pref))\n",
    "    process_stats(stats)\n",
    "    print()"
   ]
  },
  {
   "cell_type": "code",
   "execution_count": null,
   "metadata": {},
   "outputs": [],
   "source": [
    "clf = LinearRegression(fit_intercept=False)\n",
    "_X = np.hstack((X[:, :6], X[:, 15:15+7]))\n",
    "_X_ = np.hstack((X_[:, :6], X_[:, 15:15+7]))\n",
    "\n",
    "y7 = clf.fit(_X, y).predict(_X_) > 0\n",
    "save_results(docs_test, y7, name='submission7.csv')"
   ]
  },
  {
   "cell_type": "code",
   "execution_count": 27,
   "metadata": {},
   "outputs": [
    {
     "name": "stdout",
     "output_type": "stream",
     "text": [
      "|||||||||||||||||||||||||||||||||||||||||||||||||||||||||||||||||||||||||||||||||||||||||||||||||||#\n",
      "|||||||||||||||||||||||||||||||||||||||||||||||||||||||||||||||||||||||||||||||||||||||||||||||||||#\n",
      "|||||||||||||||||||||||||||||||||||||||||||||||||||||||||||||||||||||||||||||||||||||||||||||||||||#\n",
      "|||||||||||||||||||||||||||||||||||||||||||||||||||||||||||||||||||||||||||||||||||||||||||||||||||#\n",
      "|||||||||||||||||||||||||||||||||||||||||||||||||||||||||||||||||||||||||||||||||||||||||||||||||||#\n",
      "|||||||||||||||||||||||||||||||||||||||||||||||||||||||||||||||||||||||||||||||||||||||||||||||||||#\n",
      "Done in 1813.10 s\n"
     ]
    }
   ],
   "source": [
    "N = 255 // 2\n",
    "_a = np.array(range(5, 16, 1))\n",
    "_b = np.array(range(0, 9, 1))\n",
    "_c = np.logspace(-2, 0.5, 6)\n",
    "\n",
    "validation = []\n",
    "t = time()\n",
    "for c in _c:\n",
    "    clf2 = LogisticRegression(fit_intercept=False, solver='lbfgs', max_iter=200, C=c)\n",
    "    for a, b in product(_a, _b):\n",
    "        stats = np.zeros(N)\n",
    "        for i in range(N):\n",
    "            X1, X2, y1, y2 = my_split(X, y, groups_train, 0.2, a, b)\n",
    "            y3 = clf2.fit(X1, y1).predict(X2) > 0.5\n",
    "            stats[i] = f1_score(y2, y3)\n",
    "        validation.append((process_stats(stats, False), (a, b, c)))\n",
    "        print(end='|')\n",
    "    print('#')\n",
    "\n",
    "t = time() - t\n",
    "print(f'Done in {t:.2f} s')"
   ]
  },
  {
   "cell_type": "code",
   "execution_count": 29,
   "metadata": {},
   "outputs": [
    {
     "name": "stdout",
     "output_type": "stream",
     "text": [
      "0.032  6  7: mean 0.675 std 0.016 min 0.627\n",
      "             mean 0.672 std 0.014 min 0.632\n",
      "\n",
      "0.010  9  8: mean 0.674 std 0.013 min 0.638\n",
      "             mean 0.672 std 0.014 min 0.624\n",
      "\n",
      "0.010  8  8: mean 0.673 std 0.014 min 0.627\n",
      "             mean 0.671 std 0.014 min 0.627\n",
      "\n",
      "0.032  5  6: mean 0.673 std 0.012 min 0.641\n",
      "             mean 0.671 std 0.014 min 0.628\n",
      "\n",
      "0.032  6  6: mean 0.673 std 0.014 min 0.628\n",
      "             mean 0.670 std 0.014 min 0.616\n",
      "\n",
      "0.100  6  8: mean 0.672 std 0.014 min 0.631\n",
      "             mean 0.671 std 0.014 min 0.619\n",
      "\n",
      "0.010  6  7: mean 0.672 std 0.013 min 0.628\n",
      "             mean 0.672 std 0.015 min 0.603\n",
      "\n"
     ]
    }
   ],
   "source": [
    "best = sorted(validation, reverse=True)[:7]\n",
    "\n",
    "N = 1023\n",
    "for stat, (a, b, c) in best:\n",
    "    pref = f'{c:3.3f} {a:2d} {b:2d}: '\n",
    "    print(end=pref)\n",
    "    print_stats(*stat)\n",
    "\n",
    "    clf = LogisticRegression(fit_intercept=False, solver='lbfgs', max_iter=300, C=c)\n",
    "    stats = np.zeros(N)\n",
    "    for i in range(N):\n",
    "        X1, X2, y1, y2 = my_split(X, y, groups_train, 0.2, a, b)\n",
    "        y3 = clf.fit(X1, y1).predict(X2) > .5\n",
    "        stats[i] = f1_score(y2, y3)\n",
    "    print(end=' '*len(pref))\n",
    "    process_stats(stats)\n",
    "    print()"
   ]
  },
  {
   "cell_type": "code",
   "execution_count": null,
   "metadata": {},
   "outputs": [],
   "source": [
    "clf = LogisticRegression(fit_intercept=False, solver='lbfgs', max_iter=200, C=0.01)\n",
    "_X = cut_X_features(X, 6, 7)\n",
    "_X_ = cut_X_features(X_, 6, 7)\n",
    "\n",
    "y8 = clf.fit(_X, y).predict(_X_) > .5\n",
    "save_results(docs_test, y8, name='submission8.csv')"
   ]
  },
  {
   "cell_type": "markdown",
   "metadata": {},
   "source": [
    "Разбейте данные на обучение и валидацию. Подберите параметры C, alpha, max_epoch, model_type на валидации (Вы же помните, как правильно в этой задаче делать валидацию?)"
   ]
  },
  {
   "cell_type": "code",
   "execution_count": 33,
   "metadata": {},
   "outputs": [
    {
     "name": "stdout",
     "output_type": "stream",
     "text": [
      "mean 0.568 std 0.041 min 0.507\n"
     ]
    }
   ],
   "source": [
    "clf = MySGDClassifier(model_type='log_reg',\n",
    "                      batch_size=100,\n",
    "                      C=100, alpha=0.001,\n",
    "                      max_epoch=100)\n",
    "N = 7\n",
    "stats = np.zeros(N)\n",
    "for i in range(N):\n",
    "    X1, X2, y1, y2 = my_split(X, y, groups_train, 0.2, 6, 7)\n",
    "    clf.fit(X1, y1)\n",
    "    y3 = clf.predict(X2) > .5\n",
    "    stats[i] = f1_score(y2, y3)\n",
    "\n",
    "process_stats(stats)\n",
    "\n",
    "clf.fit(cut_X_features(X, 6, 7), y)\n",
    "y3 = clf.predict(cut_X_features(X_, 6, 7)) > 0\n",
    "save_results(docs_test, y3, 'submission3.csv')"
   ]
  },
  {
   "cell_type": "markdown",
   "metadata": {},
   "source": [
    "С лучшими параметрами на валидации сделайте предсказание на тестовом множестве, отправьте его на проверку на платформу kaggle. Убедитесь, что Вы смогли побить public score первого бейзлайна. Если да, то Вы молодец!\n",
    "\n",
    "** Результат с kaggle:**\n",
    "\n",
    "Посылка submission8.csv имеет public score 0.654"
   ]
  },
  {
   "cell_type": "code",
   "execution_count": 11,
   "metadata": {},
   "outputs": [
    {
     "name": "stdout",
     "output_type": "stream",
     "text": [
      "mean 0.534 std 0.100 min 0.232\n"
     ]
    }
   ],
   "source": [
    "clf = MySGDClassifier(model_type='lin_reg',\n",
    "                           batch_size=100,\n",
    "                           C=10, alpha=.003,\n",
    "                           max_epoch=200)\n",
    "N = 13\n",
    "stats = np.zeros(N)\n",
    "for i in range(N):\n",
    "    X1, X2, y1, y2 = my_split(X, 2*y-1, groups_train, 0.2, 6, 7)\n",
    "    y3 = 2*(clf.fit(X1, y1).predict(X2) > 0)-1\n",
    "    stats[i] = f1_score(y2, y3)\n",
    "process_stats(stats);"
   ]
  },
  {
   "cell_type": "code",
   "execution_count": 12,
   "metadata": {},
   "outputs": [
    {
     "name": "stdout",
     "output_type": "stream",
     "text": [
      "mean 0.571 std 0.061 min 0.435\n"
     ]
    }
   ],
   "source": [
    "clf = MySGDClassifier(model_type='log_reg',\n",
    "                           batch_size=100,\n",
    "                           C=100, alpha=.01,\n",
    "                           max_epoch=100)\n",
    "N = 13\n",
    "stats = np.zeros(N)\n",
    "for i in range(N):\n",
    "    X1, X2, y1, y2 = my_split(X, y, groups_train, 0.2, 6, 7)\n",
    "    y3 = clf.fit(X1, y1).predict(X2) > .5\n",
    "    stats[i] = f1_score(y2, y3)\n",
    "process_stats(stats);"
   ]
  },
  {
   "cell_type": "markdown",
   "metadata": {},
   "source": [
    "# Контрольные вопросы\n",
    "Постарайтесь максимально развернуто и честно ответить на вопросы. Они охватывают тему линейных моделей и скорее нужны преподавателям, чтобы понимать, что именно Вы усвоили плохо. Надеюсь, они подскажут, что именно в теме Вы не понимаете или наоборот порадают, что Вы все знаете ^_^"
   ]
  },
  {
   "cell_type": "markdown",
   "metadata": {},
   "source": [
    "* Опишите основные, на Ваш взгляд,  отличия логистической регрессии от линейной регрессии. Почему, на ваш взгляд, задачу классификации решают логистической, а не линейной регрессией?"
   ]
  },
  {
   "cell_type": "markdown",
   "metadata": {},
   "source": [
    "***Ваше ответ здесь***\n",
    "\n",
    "Функцией предсказания и интервалом результата."
   ]
  },
  {
   "cell_type": "markdown",
   "metadata": {},
   "source": [
    "* Как Вы думаете, для каких типов задач (объем данных, число признаков, типы признаков) стоит отдавать предпочтение линейным моделям?"
   ]
  },
  {
   "cell_type": "markdown",
   "metadata": {},
   "source": [
    "***Ваше ответ здесь***"
   ]
  },
  {
   "cell_type": "markdown",
   "metadata": {},
   "source": [
    "* Пусть на обучении мы имеем выборку размера $N$, число признаков $D$. Чему равна алгоритмическая сложность одного шага градиентного спуска? Cтохастического градиентного спуска?  Сложность предсказания на одном объекте?"
   ]
  },
  {
   "cell_type": "markdown",
   "metadata": {},
   "source": [
    "***Ваше ответ здесь***\n",
    "\n",
    "1. $\\theta(ND)$\n",
    "2. $\\theta(nD)$\n",
    "3. $\\theta(D)$"
   ]
  },
  {
   "cell_type": "markdown",
   "metadata": {},
   "source": [
    "* В чем преимущества стохастического градиентного спуска (в том числе мини-батч) над обычным градиентным спуском? В чем его недостатки? Рассмотрите несколько аспектов $-$ скорость сходимости, необходимость загрузки всех данных в оперативную память, сложность вычисления одного шага.\n",
    "\n",
    "При использовании стохастического градиентного спуска не требуется хранить всю выборку в памяти, т.к. используется лишь некоторая ее часть. Т.к. сложность вычисления пропорциональна размеру батча, сложность вычисления одного шага меньше, чем для обычного спуска, но при этом направление не всегда направлено в сторону минимума по всей выборке. Но при обработке всей выборки (одна эпоха), в стохастическом методе происходит большее количество обновлений весов, за счет чего происходит более быстрое движение к минимуму."
   ]
  },
  {
   "cell_type": "markdown",
   "metadata": {},
   "source": [
    "***Ваше ответ здесь***"
   ]
  },
  {
   "cell_type": "markdown",
   "metadata": {},
   "source": [
    "* Как Вы думаете, при обучении линейной модели с помощью SGD, ошибку на новом объекте стоит считать до итерации спуска на этом объекте или после? Почему Вы так думаете? Возможно, Вам будет интересно ознакомиться с http://hunch.net/~jl/projects/prediction_bounds/thesis/mathml/thesisse44.xml"
   ]
  },
  {
   "cell_type": "markdown",
   "metadata": {},
   "source": [
    "***Ваше ответ здесь***"
   ]
  },
  {
   "cell_type": "markdown",
   "metadata": {},
   "source": [
    "* Как Вы думаете, во времена такого бума нейронных сетей, остаются ли популярными линейные модели, или это уже пережиток прошлого? Почему Вы так думаете?"
   ]
  },
  {
   "cell_type": "markdown",
   "metadata": {},
   "source": [
    "***Ваше ответ здесь***"
   ]
  },
  {
   "cell_type": "markdown",
   "metadata": {},
   "source": [
    "* Какие аспекты обучения линейных моделей Вам показались непонятными? Какое место стоит дополнительно объяснить?"
   ]
  },
  {
   "cell_type": "markdown",
   "metadata": {},
   "source": [
    "***Ваше ответ здесь***"
   ]
  },
  {
   "cell_type": "markdown",
   "metadata": {},
   "source": [
    "Здесь Вы можете оставить отзыв о этой домашней работе или о всем курсе.   "
   ]
  },
  {
   "cell_type": "markdown",
   "metadata": {},
   "source": [
    "*** ВАШ ОТЗЫВ ЗДЕСЬ***"
   ]
  },
  {
   "cell_type": "code",
   "execution_count": null,
   "metadata": {},
   "outputs": [],
   "source": []
  },
  {
   "cell_type": "code",
   "execution_count": null,
   "metadata": {},
   "outputs": [],
   "source": []
  }
 ],
 "metadata": {
  "anaconda-cloud": {},
  "kernelspec": {
   "display_name": "Python 3",
   "language": "python",
   "name": "python3"
  },
  "language_info": {
   "codemirror_mode": {
    "name": "ipython",
    "version": 3
   },
   "file_extension": ".py",
   "mimetype": "text/x-python",
   "name": "python",
   "nbconvert_exporter": "python",
   "pygments_lexer": "ipython3",
   "version": "3.6.8"
  },
  "nav_menu": {},
  "toc": {
   "colors": {
    "hover_highlight": "#DAA520",
    "navigate_num": "#000000",
    "navigate_text": "#333333",
    "running_highlight": "#FF0000",
    "selected_highlight": "#FFD700",
    "sidebar_border": "#EEEEEE",
    "wrapper_background": "#FFFFFF"
   },
   "moveMenuLeft": true,
   "nav_menu": {
    "height": "402px",
    "width": "253px"
   },
   "navigate_menu": true,
   "number_sections": false,
   "sideBar": true,
   "threshold": 4,
   "toc_cell": false,
   "toc_section_display": "block",
   "toc_window_display": true,
   "widenNotebook": false
  }
 },
 "nbformat": 4,
 "nbformat_minor": 2
}
