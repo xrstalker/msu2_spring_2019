{
 "cells": [
  {
   "cell_type": "markdown",
   "metadata": {},
   "source": [
    "**Общая информация**\n",
    "\n",
    "**Срок сдачи:** 20 марта 2019, 06:00  \n",
    "**Штраф за опоздание:** -1 балл после 06:00 20 марта, -2 балла после 06:00 27 марта, -3 балла после 06:00 3 апреля\n",
    "\n",
    "При отправлении ДЗ указывайте фамилию в названии файла\n",
    "Присылать ДЗ необходимо в виде ссылки на свой github репозиторий в slack @alkhamush\n",
    "\n",
    "Необходимо в slack скинуть ссылку в личный чат @alkhamush\n",
    "Пример ссылки:\n",
    "https://github.com/stroykova/spheremailru/stroykova_hw1.ipynb \n",
    "\n",
    "\n",
    "Используйте данный Ipython Notebook при оформлении домашнего задания."
   ]
  },
  {
   "cell_type": "markdown",
   "metadata": {},
   "source": [
    "###### Задание 1 (2 баллов)\n",
    "Реализовать KNN в классе MyKNeighborsClassifier (обязательное условие: точность не ниже sklearn реализации)\n",
    "Разберитесь самостоятельно, какая мера расстояния используется в KNeighborsClassifier дефолтно и реализуйте свой алгоритм именно с этой мерой. Самостоятельно разберитесь, как считается score из KNeighborsClassifier и реализуйте аналог в своём классе. Score не должен уступать значению KNN из sklearn\n",
    "\n",
    "###### Задание 2 (2 балла)\n",
    "Добиться скорости работы на fit,  predict и predict_proba сравнимой со sklearn для iris и mnist\n",
    "Для этого используем numpy\n",
    "\n",
    "###### Задание 3 (2 балла)\n",
    "Для iris найдите такой параметр n_neighbors, при котором выдаётся наилучший score. Нарисуйте график зависимости score от n_neighbors\n",
    "\n",
    "###### Задание 4 (3 балла)\n",
    "Добавить algorithm='kd_tree' в реализацию KNN (использовать KDTree из sklearn.neighbors). Значение n_neighbors нужно взять из задания 3. Добиться скорости работы на fit,  predict и predict_proba сравнимой со sklearn для iris и mnist\n",
    "Для этого используем numpy. Score не должен уступать значению KNN из sklearn\n",
    "\n",
    "###### Задание 5 (1 балла)\n",
    "Описать для чего нужны следующие библиотеки/классы/функции (список будет ниже)\n",
    "\n",
    "**Штрафные баллы:**\n",
    "\n",
    "1. Невыполнение PEP8 -1 балл\n",
    "2. Отсутствие фамилии в имени скрипта (скрипт должен называться по аналогии со stroykova_hw1.ipynb) -1 балл\n",
    "3. Все строчки должны быть выполнены. Нужно, чтобы output команды можно было увидеть уже в git'е. В противном случае -1 балл\n",
    "4. При оформлении ДЗ нужно пользоваться данным файлом в качестве шаблона. Не нужно удалять и видоизменять структуру кода и текст. В противном случае -1 балл\n"
   ]
  },
  {
   "cell_type": "code",
   "execution_count": 2,
   "metadata": {},
   "outputs": [],
   "source": [
    "import numpy as np\n",
    "import matplotlib.pyplot as plt\n",
    "\n",
    "import seaborn as sns\n",
    "from sklearn import datasets\n",
    "from sklearn.base import ClassifierMixin\n",
    "from sklearn.datasets import fetch_mldata, fetch_openml\n",
    "from sklearn.neighbors.base import NeighborsBase, KNeighborsMixin, SupervisedIntegerMixin \n",
    "from sklearn.model_selection import train_test_split\n",
    "from sklearn.neighbors import KNeighborsClassifier\n",
    "%load_ext pycodestyle_magic"
   ]
  },
  {
   "cell_type": "code",
   "execution_count": 48,
   "metadata": {},
   "outputs": [],
   "source": [
    "%%pycodestyle\n",
    "\n",
    "# scipy.stats.mode is used in predict\n",
    "import scipy\n",
    "from sklearn.neighbors import KDTree\n",
    "# pairwise_distance is used with algorithm='metrics_brute'\n",
    "from sklearn.metrics import pairwise_distances\n",
    "# LinearLocator is used in visualize_score\n",
    "from matplotlib.ticker import LinearLocator\n",
    "\n",
    "\n",
    "class MyKNeighborsClassifier(NeighborsBase, KNeighborsMixin,\n",
    "                             SupervisedIntegerMixin, ClassifierMixin):\n",
    "\n",
    "    supported_algorithms = ['kd_tree', 'brute', 'precomp_brute',\n",
    "                            'metrics_brute']\n",
    "\n",
    "    def __init__(self, n_neighbors, algorithm='brute'):\n",
    "        if algorithm not in self.supported_algorithms:\n",
    "            raise ValueError(\"unrecognized algorithm: '%s'\" % algorithm)\n",
    "\n",
    "        self.k = n_neighbors\n",
    "        self.algorithm = algorithm\n",
    "        self.dist_f = MyKNeighborsClassifier.dist3\n",
    "\n",
    "    def __repr__(self):\n",
    "        return (\"MyKNeighborsClassifier(algorithm='%s', n_neighbors=%d)\"\n",
    "                % (self.algorithm, self.k))\n",
    "\n",
    "    @staticmethod\n",
    "    def conv_labels(y, conv_dict):\n",
    "        r = np.empty(shape=(len(y)), dtype=np.int32)\n",
    "        for i, l in enumerate(y):\n",
    "            r[i] = conv_dict[l]\n",
    "        return r\n",
    "\n",
    "    def prepare_labels(self, y):\n",
    "        if np.issubdtype(type(y), np.number):\n",
    "            self.labels = np.array(sorted(set(y)))\n",
    "        else:\n",
    "            self.labels = np.array(sorted(set(y)), dtype=np.object)\n",
    "        conv_dict = dict()\n",
    "        for i, l in enumerate(self.labels):\n",
    "            conv_dict[l] = i\n",
    "        self.conv_dict = conv_dict\n",
    "        self.y = self.conv_labels(y, conv_dict)\n",
    "\n",
    "    @staticmethod\n",
    "    def dist2(x, y):\n",
    "        x = x.reshape(-1, x.shape[-1])\n",
    "        y = y.reshape(-1, y.shape[-1])\n",
    "        x2 = (x**2).sum(1)[:, np.newaxis]\n",
    "        y2 = (y**2).sum(1)[np.newaxis, :]\n",
    "        xy = np.matmul(x, y.T)\n",
    "        return x2 - 2*xy + y2\n",
    "\n",
    "    @staticmethod\n",
    "    def dist3(x, yd, y2):\n",
    "        x = x.reshape(-1, x.shape[-1])\n",
    "        x2 = (x**2).sum(1)[:, np.newaxis]\n",
    "        xyd = np.matmul(x, yd.T)\n",
    "        return x2 - xyd + y2\n",
    "\n",
    "    def kneighbors_brute(self, X):\n",
    "        dists = self.dist2(X, self.X)\n",
    "        return dists.argpartition(self.k)[:, :self.k]\n",
    "\n",
    "    def kneighbors_precomp_brute(self, X):\n",
    "        dists = self.dist3(X, self.Xd, self.Xs)\n",
    "        return dists.argpartition(self.k)[:, :self.k]\n",
    "\n",
    "    def kneighbors_metrics_brute(self, X):\n",
    "        dists = pairwise_distances(X, self.X)\n",
    "        return dists.argpartition(self.k)[:, :self.k]\n",
    "\n",
    "    def kneighbors_kdtree(self, X):\n",
    "        return self._tree.query(X, self.k, return_distance=False)\n",
    "\n",
    "    def clear(self):\n",
    "        if hasattr(self, 'X'):\n",
    "            del self.X\n",
    "        if hasattr(self, 'Xd'):\n",
    "            del self.Xd\n",
    "        if hasattr(self, 'Xs'):\n",
    "            del self.Xs\n",
    "        if hasattr(self, 'labels'):\n",
    "            del self.labels\n",
    "        if hasattr(self, 'conv_dict'):\n",
    "            del self.conv_dict\n",
    "        if hasattr(self, 'y'):\n",
    "            del self.y\n",
    "        if hasattr(self, '_tree'):\n",
    "            del self._tree\n",
    "\n",
    "    def fit(self, X, y):\n",
    "        self.clear()\n",
    "        self.prepare_labels(y.flatten())\n",
    "        self.n_classes = len(self.labels)\n",
    "\n",
    "        if self.algorithm == 'brute':\n",
    "            self.X = np.asarray(X)\n",
    "            self.kneigh_f = self.kneighbors_brute\n",
    "        elif self.algorithm == 'metrics_brute':\n",
    "            self.X = np.asarray(X)\n",
    "            self.kneigh_f = self.kneighbors_metrics_brute\n",
    "        elif self.algorithm == 'precomp_brute':\n",
    "            Xd = 2*np.asarray(X)\n",
    "            Xs = np.asarray(X)**2\n",
    "            self.Xd = Xd.reshape(-1, Xd.shape[-1])\n",
    "            self.Xs = Xs.reshape(-1, Xs.shape[-1]).sum(1)\n",
    "            self.kneigh_f = self.kneighbors_precomp_brute\n",
    "        elif self.algorithm == 'kd_tree':\n",
    "            self._tree = KDTree(X)\n",
    "            self.kneigh_f = self.kneighbors_kdtree\n",
    "        else:\n",
    "            raise ValueError(\"Incosistent state of class \" + repr(self))\n",
    "\n",
    "        return self\n",
    "\n",
    "    def predict(self, X):\n",
    "        X = np.asarray(X)\n",
    "        # return indexes of k nearest points\n",
    "        kneigh = self.kneigh_f(X)\n",
    "        # convert to labels\n",
    "        labels = self.y[kneigh]\n",
    "        # count mode label\n",
    "        ids = scipy.stats.mode(labels, axis=1).mode.T[0]\n",
    "        return self.labels[ids]\n",
    "\n",
    "    def predict_proba(self, X):\n",
    "        X = np.asarray(X)\n",
    "        # return indexes of k nearest points\n",
    "        kneigh = self.kneigh_f(X)\n",
    "        # convert to labels\n",
    "        labels = self.y[kneigh]\n",
    "        cnt = np.apply_along_axis(np.bincount, 1, labels,\n",
    "                                  minlength=self.n_classes)\n",
    "        return cnt / self.k\n",
    "\n",
    "    def score(self, X, y):\n",
    "        return np.average(self.predict(X) == y)\n",
    "\n",
    "    def extract_score(self, data, target, N_test, N_k, frac):\n",
    "        my_score = np.empty((N_test, N_k), dtype=np.float64)\n",
    "        N_ticks = N_test * N_k\n",
    "        M_ticks = N_ticks // 10\n",
    "        L_ticks = N_ticks // 50\n",
    "        print('Generating score data (%d samples per k):' % N_test)\n",
    "        for j in range(N_test):\n",
    "            X1, X2, y1, y2 = train_test_split(data,\n",
    "                                              target,\n",
    "                                              test_size=frac,\n",
    "                                              stratify=target)\n",
    "            self.fit(X1, y1)\n",
    "            for i in range(1, 1+N_k):\n",
    "                t = j*N_k + i-1\n",
    "                if t % M_ticks == 0:\n",
    "                    print('|', end='')\n",
    "                elif t % L_ticks == 0:\n",
    "                    print('+', end='')\n",
    "\n",
    "                self.k = i\n",
    "                my_score[j][i-1] = self.score(X2, y2)\n",
    "\n",
    "            del X1, X2, y1, y2\n",
    "        print('#')\n",
    "        return my_score\n",
    "\n",
    "    def visualize_score(self, data, target, N_test, N_k, frac):\n",
    "        my_score = self.extract_score(data, target, N_test, N_k, frac)\n",
    "        mn = np.mean(my_score, axis=0)\n",
    "        md = np.median(my_score, axis=0)\n",
    "        m1 = np.percentile(my_score, 1, axis=0)\n",
    "        abs_min = int(m1.min()*100)*.01\n",
    "\n",
    "        fig = plt.figure(figsize=(14, 5))\n",
    "        ax = fig.add_subplot(1, 1, 1)\n",
    "\n",
    "        ax.plot(range(1, N_k+1), mn, label='mean', alpha=0.5)\n",
    "        ax.plot(range(1, N_k+1), md, label='median', alpha=0.8)\n",
    "        ax.plot(range(1, N_k+1), m1, label='1 percentile', alpha=0.8)\n",
    "        cax = ax.scatter(range(1, N_k+1), mn, c=mn, cmap=plt.cm.jet)\n",
    "        fig.colorbar(cax)\n",
    "\n",
    "        ax.set_xlabel('k neighbors')\n",
    "        ax.set_xlim(0.5, N_k+.5)\n",
    "        ax.xaxis.set_ticks(range(1, N_k+1))\n",
    "\n",
    "        ax.set_ylabel('accuracy')\n",
    "        ax.set_ylim(abs_min-0.01, 1.01)\n",
    "        ax.yaxis.set_ticks(np.arange(abs_min, 1.01, 0.01))\n",
    "\n",
    "        ax.grid()\n",
    "        ax.legend(loc='center right')\n",
    "\n",
    "        print('Max mean %.4f with k equal %d' % (mn.max(), mn.argmax()+1))"
   ]
  },
  {
   "cell_type": "markdown",
   "metadata": {},
   "source": [
    "**IRIS**"
   ]
  },
  {
   "cell_type": "code",
   "execution_count": 6,
   "metadata": {},
   "outputs": [],
   "source": [
    "iris = datasets.load_iris()"
   ]
  },
  {
   "cell_type": "code",
   "execution_count": 7,
   "metadata": {},
   "outputs": [],
   "source": [
    "X_train, X_test, y_train, y_test = train_test_split(iris.data,\n",
    "                                                    iris.target,\n",
    "                                                    test_size=0.1,\n",
    "                                                    stratify=iris.target)"
   ]
  },
  {
   "cell_type": "code",
   "execution_count": 8,
   "metadata": {},
   "outputs": [],
   "source": [
    "clf = KNeighborsClassifier(n_neighbors=2)\n",
    "my_clf = MyKNeighborsClassifier(n_neighbors=2)"
   ]
  },
  {
   "cell_type": "code",
   "execution_count": 9,
   "metadata": {},
   "outputs": [
    {
     "name": "stdout",
     "output_type": "stream",
     "text": [
      "CPU times: user 1.77 ms, sys: 948 µs, total: 2.72 ms\n",
      "Wall time: 4.58 ms\n"
     ]
    },
    {
     "data": {
      "text/plain": [
       "KNeighborsClassifier(algorithm='auto', leaf_size=30, metric='minkowski',\n",
       "           metric_params=None, n_jobs=None, n_neighbors=2, p=2,\n",
       "           weights='uniform')"
      ]
     },
     "execution_count": 9,
     "metadata": {},
     "output_type": "execute_result"
    }
   ],
   "source": [
    "%time clf.fit(X_train, y_train)"
   ]
  },
  {
   "cell_type": "code",
   "execution_count": 10,
   "metadata": {},
   "outputs": [
    {
     "name": "stdout",
     "output_type": "stream",
     "text": [
      "CPU times: user 775 µs, sys: 0 ns, total: 775 µs\n",
      "Wall time: 761 µs\n"
     ]
    },
    {
     "data": {
      "text/plain": [
       "MyKNeighborsClassifier(algorithm='brute', n_neighbors=2)"
      ]
     },
     "execution_count": 10,
     "metadata": {},
     "output_type": "execute_result"
    }
   ],
   "source": [
    "%time my_clf.fit(X_train, y_train)"
   ]
  },
  {
   "cell_type": "code",
   "execution_count": 11,
   "metadata": {},
   "outputs": [
    {
     "name": "stdout",
     "output_type": "stream",
     "text": [
      "CPU times: user 5.15 ms, sys: 2.63 ms, total: 7.77 ms\n",
      "Wall time: 6.12 ms\n"
     ]
    },
    {
     "data": {
      "text/plain": [
       "array([0, 1, 1, 0, 1, 2, 1, 0, 2, 0, 2, 2, 0, 2, 1])"
      ]
     },
     "execution_count": 11,
     "metadata": {},
     "output_type": "execute_result"
    }
   ],
   "source": [
    "%time clf.predict(X_test)"
   ]
  },
  {
   "cell_type": "code",
   "execution_count": 12,
   "metadata": {},
   "outputs": [
    {
     "name": "stdout",
     "output_type": "stream",
     "text": [
      "CPU times: user 1.96 ms, sys: 211 µs, total: 2.17 ms\n",
      "Wall time: 42.5 ms\n"
     ]
    },
    {
     "data": {
      "text/plain": [
       "array([0, 1, 1, 0, 1, 2, 1, 0, 2, 0, 2, 2, 0, 2, 1], dtype=object)"
      ]
     },
     "execution_count": 12,
     "metadata": {},
     "output_type": "execute_result"
    }
   ],
   "source": [
    "%time my_clf.predict(X_test)"
   ]
  },
  {
   "cell_type": "code",
   "execution_count": 13,
   "metadata": {},
   "outputs": [
    {
     "name": "stdout",
     "output_type": "stream",
     "text": [
      "CPU times: user 1.3 ms, sys: 66 µs, total: 1.37 ms\n",
      "Wall time: 966 µs\n"
     ]
    },
    {
     "data": {
      "text/plain": [
       "array([[1., 0., 0.],\n",
       "       [0., 1., 0.],\n",
       "       [0., 1., 0.],\n",
       "       [1., 0., 0.],\n",
       "       [0., 1., 0.],\n",
       "       [0., 0., 1.],\n",
       "       [0., 1., 0.],\n",
       "       [1., 0., 0.],\n",
       "       [0., 0., 1.],\n",
       "       [1., 0., 0.],\n",
       "       [0., 0., 1.],\n",
       "       [0., 0., 1.],\n",
       "       [1., 0., 0.],\n",
       "       [0., 0., 1.],\n",
       "       [0., 1., 0.]])"
      ]
     },
     "execution_count": 13,
     "metadata": {},
     "output_type": "execute_result"
    }
   ],
   "source": [
    "%time clf.predict_proba(X_test)"
   ]
  },
  {
   "cell_type": "code",
   "execution_count": 14,
   "metadata": {},
   "outputs": [
    {
     "name": "stdout",
     "output_type": "stream",
     "text": [
      "CPU times: user 2.29 ms, sys: 2.61 ms, total: 4.9 ms\n",
      "Wall time: 3.75 ms\n"
     ]
    },
    {
     "data": {
      "text/plain": [
       "array([[1., 0., 0.],\n",
       "       [0., 1., 0.],\n",
       "       [0., 1., 0.],\n",
       "       [1., 0., 0.],\n",
       "       [0., 1., 0.],\n",
       "       [0., 0., 1.],\n",
       "       [0., 1., 0.],\n",
       "       [1., 0., 0.],\n",
       "       [0., 0., 1.],\n",
       "       [1., 0., 0.],\n",
       "       [0., 0., 1.],\n",
       "       [0., 0., 1.],\n",
       "       [1., 0., 0.],\n",
       "       [0., 0., 1.],\n",
       "       [0., 1., 0.]])"
      ]
     },
     "execution_count": 14,
     "metadata": {},
     "output_type": "execute_result"
    }
   ],
   "source": [
    "%time my_clf.predict_proba(X_test)"
   ]
  },
  {
   "cell_type": "code",
   "execution_count": 15,
   "metadata": {},
   "outputs": [
    {
     "data": {
      "text/plain": [
       "1.0"
      ]
     },
     "execution_count": 15,
     "metadata": {},
     "output_type": "execute_result"
    }
   ],
   "source": [
    "clf.score(X_test, y_test)"
   ]
  },
  {
   "cell_type": "code",
   "execution_count": 16,
   "metadata": {},
   "outputs": [
    {
     "data": {
      "text/plain": [
       "1.0"
      ]
     },
     "execution_count": 16,
     "metadata": {},
     "output_type": "execute_result"
    }
   ],
   "source": [
    "my_clf.score(X_test, y_test)"
   ]
  },
  {
   "cell_type": "markdown",
   "metadata": {},
   "source": [
    "###### Задание 3\n",
    "\n",
    "Для iris найдите такой параметр n_neighbors, при котором выдаётся наилучший score. Нарисуйте график зависимости score от n_neighbors"
   ]
  },
  {
   "cell_type": "code",
   "execution_count": 50,
   "metadata": {},
   "outputs": [
    {
     "name": "stdout",
     "output_type": "stream",
     "text": [
      "Generating score data (100001 samples per k):\n",
      "|+++++|+++++|+++++|+++++|+++++|+++++|+++++|+++++|+++++|+++++#\n",
      "Max mean 0.9744 with k equal 17\n"
     ]
    },
    {
     "data": {
      "image/png": "[encoded data removed]",
      "text/plain": [
       "<Figure size 1008x360 with 2 Axes>"
      ]
     },
     "metadata": {},
     "output_type": "display_data"
    }
   ],
   "source": [
    "score_clf = MyKNeighborsClassifier(n_neighbors=1)\n",
    "score_clf.visualize_score(data=iris.data,\n",
    "                       target=iris.target, \n",
    "                       N_test=100001,\n",
    "                       N_k=30,\n",
    "                       frac=0.1)"
   ]
  },
  {
   "cell_type": "markdown",
   "metadata": {},
   "source": [
    "**MNIST**"
   ]
  },
  {
   "cell_type": "code",
   "execution_count": 19,
   "metadata": {},
   "outputs": [],
   "source": [
    "#mnist = fetch_mldata('MNIST original')\n",
    "mnist = fetch_openml('mnist_784')"
   ]
  },
  {
   "cell_type": "code",
   "execution_count": 20,
   "metadata": {},
   "outputs": [],
   "source": [
    "X_train, X_test, y_train, y_test = train_test_split(mnist.data,\n",
    "                                                    mnist.target,\n",
    "                                                    test_size=0.01,\n",
    "                                                    stratify=mnist.target)"
   ]
  },
  {
   "cell_type": "code",
   "execution_count": 21,
   "metadata": {},
   "outputs": [],
   "source": [
    "clf = KNeighborsClassifier(n_neighbors=2)\n",
    "my_clf = MyKNeighborsClassifier(n_neighbors=2)"
   ]
  },
  {
   "cell_type": "code",
   "execution_count": 22,
   "metadata": {},
   "outputs": [
    {
     "name": "stdout",
     "output_type": "stream",
     "text": [
      "CPU times: user 42.6 s, sys: 88.2 ms, total: 42.7 s\n",
      "Wall time: 42.9 s\n"
     ]
    },
    {
     "data": {
      "text/plain": [
       "KNeighborsClassifier(algorithm='auto', leaf_size=30, metric='minkowski',\n",
       "           metric_params=None, n_jobs=None, n_neighbors=2, p=2,\n",
       "           weights='uniform')"
      ]
     },
     "execution_count": 22,
     "metadata": {},
     "output_type": "execute_result"
    }
   ],
   "source": [
    "%time clf.fit(X_train, y_train)"
   ]
  },
  {
   "cell_type": "code",
   "execution_count": 23,
   "metadata": {},
   "outputs": [
    {
     "name": "stdout",
     "output_type": "stream",
     "text": [
      "CPU times: user 14.3 ms, sys: 1 µs, total: 14.3 ms\n",
      "Wall time: 13.8 ms\n"
     ]
    },
    {
     "data": {
      "text/plain": [
       "MyKNeighborsClassifier(algorithm='brute', n_neighbors=2)"
      ]
     },
     "execution_count": 23,
     "metadata": {},
     "output_type": "execute_result"
    }
   ],
   "source": [
    "%time my_clf.fit(X_train, y_train)"
   ]
  },
  {
   "cell_type": "code",
   "execution_count": 24,
   "metadata": {},
   "outputs": [
    {
     "name": "stdout",
     "output_type": "stream",
     "text": [
      "CPU times: user 1min 22s, sys: 21.3 ms, total: 1min 22s\n",
      "Wall time: 1min 22s\n"
     ]
    },
    {
     "data": {
      "text/plain": [
       "array(['7', '9', '5', '6', '9', '5', '3', '1', '0', '1', '1', '6', '8',\n",
       "       '1', '1', '1', '4', '8', '0', '0', '1', '8', '5', '7', '1', '1',\n",
       "       '8', '3', '4', '5', '7', '9', '1', '2', '0', '8', '6', '9', '7',\n",
       "       '0', '8', '1', '8', '0', '1', '7', '2', '3', '1', '1', '1', '8',\n",
       "       '5', '1', '0', '4', '4', '1', '7', '1', '9', '2', '2', '2', '4',\n",
       "       '6', '3', '3', '8', '8', '3', '5', '4', '4', '7', '2', '3', '9',\n",
       "       '0', '9', '0', '8', '8', '8', '0', '1', '7', '8', '1', '8', '0',\n",
       "       '5', '9', '3', '8', '6', '6', '0', '6', '4', '0', '9', '2', '6',\n",
       "       '6', '2', '0', '2', '2', '2', '3', '2', '1', '7', '5', '8', '8',\n",
       "       '3', '3', '2', '1', '1', '3', '8', '3', '4', '5', '1', '0', '9',\n",
       "       '8', '9', '3', '1', '4', '4', '2', '8', '7', '9', '9', '3', '2',\n",
       "       '0', '2', '6', '6', '6', '9', '1', '7', '7', '2', '6', '4', '0',\n",
       "       '7', '9', '0', '6', '6', '6', '0', '9', '0', '0', '2', '6', '5',\n",
       "       '9', '5', '0', '6', '8', '0', '2', '8', '0', '0', '3', '6', '9',\n",
       "       '7', '2', '3', '5', '8', '2', '4', '3', '5', '9', '9', '0', '6',\n",
       "       '7', '1', '8', '2', '0', '8', '5', '3', '5', '0', '6', '7', '5',\n",
       "       '9', '5', '3', '9', '6', '8', '7', '7', '7', '8', '1', '9', '1',\n",
       "       '5', '9', '0', '2', '9', '2', '1', '8', '0', '0', '6', '8', '4',\n",
       "       '2', '4', '9', '9', '7', '6', '3', '5', '6', '6', '5', '1', '8',\n",
       "       '2', '0', '3', '4', '2', '3', '3', '2', '3', '9', '0', '0', '9',\n",
       "       '3', '2', '2', '4', '9', '6', '7', '0', '5', '4', '5', '9', '2',\n",
       "       '1', '8', '9', '6', '9', '5', '7', '1', '6', '1', '1', '1', '0',\n",
       "       '5', '4', '0', '6', '2', '1', '4', '4', '0', '7', '6', '7', '4',\n",
       "       '1', '5', '9', '2', '3', '4', '1', '3', '4', '0', '7', '6', '2',\n",
       "       '6', '2', '1', '4', '2', '0', '1', '2', '8', '5', '5', '6', '6',\n",
       "       '4', '5', '6', '2', '1', '4', '1', '4', '1', '6', '5', '7', '2',\n",
       "       '1', '2', '7', '5', '1', '7', '0', '4', '7', '4', '7', '4', '7',\n",
       "       '2', '4', '1', '7', '8', '4', '4', '0', '5', '5', '0', '9', '4',\n",
       "       '0', '9', '5', '5', '1', '4', '3', '7', '6', '1', '2', '4', '8',\n",
       "       '3', '2', '6', '9', '1', '4', '5', '0', '6', '7', '6', '7', '8',\n",
       "       '1', '2', '1', '3', '9', '4', '6', '7', '2', '4', '3', '3', '1',\n",
       "       '7', '9', '8', '9', '8', '6', '9', '3', '2', '7', '3', '0', '7',\n",
       "       '4', '1', '1', '5', '1', '0', '5', '9', '3', '3', '8', '9', '0',\n",
       "       '3', '9', '4', '9', '6', '1', '7', '7', '1', '6', '1', '9', '6',\n",
       "       '0', '3', '2', '0', '5', '2', '1', '7', '8', '5', '8', '9', '8',\n",
       "       '8', '1', '7', '7', '2', '4', '2', '8', '5', '1', '5', '9', '5',\n",
       "       '9', '2', '0', '1', '8', '0', '0', '6', '5', '8', '1', '3', '2',\n",
       "       '9', '5', '4', '9', '7', '9', '2', '3', '4', '4', '2', '9', '3',\n",
       "       '3', '7', '1', '1', '4', '7', '5', '1', '5', '8', '3', '3', '8',\n",
       "       '5', '5', '0', '4', '7', '2', '4', '3', '0', '1', '7', '2', '3',\n",
       "       '4', '3', '3', '4', '5', '0', '2', '2', '8', '7', '2', '2', '5',\n",
       "       '3', '8', '4', '3', '8', '0', '3', '2', '1', '5', '3', '7', '4',\n",
       "       '7', '5', '0', '8', '9', '1', '7', '3', '5', '9', '5', '7', '3',\n",
       "       '4', '2', '0', '3', '1', '6', '0', '6', '1', '0', '4', '7', '4',\n",
       "       '7', '1', '4', '3', '1', '7', '7', '2', '0', '3', '4', '9', '5',\n",
       "       '4', '7', '3', '1', '8', '5', '5', '9', '9', '7', '3', '9', '6',\n",
       "       '8', '7', '6', '1', '7', '8', '8', '3', '9', '4', '2', '8', '5',\n",
       "       '9', '1', '1', '1', '4', '2', '6', '8', '6', '9', '6', '0', '7',\n",
       "       '5', '2', '3', '1', '3', '9', '8', '2', '4', '7', '0', '5', '3',\n",
       "       '0', '5', '3', '7', '0', '6', '7', '5', '2', '6', '6', '0', '2',\n",
       "       '3', '3', '7', '7', '2', '6', '0', '3', '4', '5', '0', '5', '3',\n",
       "       '2', '6', '4', '8', '6', '9', '4', '8', '8', '4', '3', '1', '4',\n",
       "       '0', '2', '0', '6', '7', '8', '7', '6', '5', '1', '3', '3', '4',\n",
       "       '9', '8', '0', '3', '9', '4', '0', '6', '1', '9', '6'],\n",
       "      dtype=object)"
      ]
     },
     "execution_count": 24,
     "metadata": {},
     "output_type": "execute_result"
    }
   ],
   "source": [
    "%time clf.predict(X_test)"
   ]
  },
  {
   "cell_type": "code",
   "execution_count": 25,
   "metadata": {},
   "outputs": [
    {
     "name": "stdout",
     "output_type": "stream",
     "text": [
      "CPU times: user 5.46 s, sys: 1.02 s, total: 6.48 s\n",
      "Wall time: 2.55 s\n"
     ]
    },
    {
     "data": {
      "text/plain": [
       "array(['7', '9', '5', '6', '9', '5', '3', '1', '0', '1', '1', '6', '8',\n",
       "       '1', '1', '1', '4', '8', '0', '0', '1', '8', '5', '7', '1', '1',\n",
       "       '8', '3', '4', '5', '7', '9', '1', '2', '0', '8', '6', '9', '7',\n",
       "       '0', '8', '1', '8', '0', '1', '7', '2', '3', '1', '1', '1', '8',\n",
       "       '5', '1', '0', '4', '4', '1', '7', '1', '9', '2', '2', '2', '4',\n",
       "       '6', '3', '3', '8', '8', '3', '5', '4', '4', '7', '2', '3', '9',\n",
       "       '0', '9', '0', '8', '8', '8', '0', '1', '7', '8', '1', '8', '0',\n",
       "       '5', '9', '3', '8', '6', '6', '0', '6', '4', '0', '9', '2', '6',\n",
       "       '6', '2', '0', '2', '2', '2', '3', '2', '1', '7', '5', '8', '8',\n",
       "       '3', '3', '2', '1', '1', '3', '8', '3', '4', '5', '1', '0', '9',\n",
       "       '8', '9', '3', '1', '4', '4', '2', '8', '7', '9', '9', '3', '2',\n",
       "       '0', '2', '6', '6', '6', '9', '1', '7', '7', '2', '6', '4', '0',\n",
       "       '7', '9', '0', '6', '6', '6', '0', '9', '0', '0', '2', '6', '5',\n",
       "       '9', '5', '0', '6', '8', '0', '2', '8', '0', '0', '3', '6', '9',\n",
       "       '7', '2', '3', '5', '8', '2', '4', '3', '5', '9', '9', '0', '6',\n",
       "       '7', '1', '8', '2', '0', '8', '5', '3', '5', '0', '6', '7', '5',\n",
       "       '9', '5', '3', '9', '6', '8', '7', '7', '7', '8', '1', '9', '1',\n",
       "       '5', '9', '0', '2', '9', '2', '1', '8', '0', '0', '6', '8', '4',\n",
       "       '2', '4', '9', '9', '7', '6', '3', '5', '6', '6', '5', '1', '8',\n",
       "       '2', '0', '3', '4', '2', '3', '3', '2', '3', '9', '0', '0', '9',\n",
       "       '3', '2', '2', '4', '9', '6', '7', '0', '5', '4', '5', '9', '2',\n",
       "       '1', '8', '9', '6', '9', '5', '7', '1', '6', '1', '1', '1', '0',\n",
       "       '5', '4', '0', '6', '2', '1', '4', '4', '0', '7', '6', '7', '4',\n",
       "       '1', '5', '9', '2', '3', '4', '1', '3', '4', '0', '7', '6', '2',\n",
       "       '6', '2', '1', '4', '2', '0', '1', '2', '8', '5', '5', '6', '6',\n",
       "       '4', '5', '6', '2', '1', '4', '1', '4', '1', '6', '5', '7', '2',\n",
       "       '1', '2', '7', '5', '1', '7', '0', '4', '7', '4', '7', '4', '7',\n",
       "       '2', '4', '1', '7', '8', '4', '4', '0', '5', '5', '0', '9', '4',\n",
       "       '0', '9', '5', '5', '1', '4', '3', '7', '6', '1', '2', '4', '8',\n",
       "       '3', '2', '6', '9', '1', '4', '5', '0', '6', '7', '6', '7', '8',\n",
       "       '1', '2', '1', '3', '9', '4', '6', '7', '2', '4', '3', '3', '1',\n",
       "       '7', '9', '8', '9', '8', '6', '9', '3', '2', '7', '3', '0', '7',\n",
       "       '4', '1', '1', '5', '1', '0', '5', '9', '3', '3', '8', '9', '0',\n",
       "       '3', '9', '4', '9', '6', '1', '7', '7', '1', '6', '1', '9', '6',\n",
       "       '0', '3', '2', '0', '5', '2', '1', '7', '8', '5', '8', '9', '8',\n",
       "       '8', '1', '7', '7', '2', '4', '2', '8', '5', '1', '5', '9', '5',\n",
       "       '9', '2', '0', '1', '8', '0', '0', '6', '5', '8', '1', '3', '2',\n",
       "       '9', '5', '4', '9', '7', '9', '2', '3', '4', '4', '2', '9', '3',\n",
       "       '3', '7', '1', '1', '4', '7', '5', '1', '5', '8', '3', '3', '8',\n",
       "       '5', '5', '0', '4', '7', '2', '4', '3', '0', '1', '7', '2', '3',\n",
       "       '4', '3', '3', '4', '5', '0', '2', '2', '8', '7', '2', '2', '5',\n",
       "       '3', '8', '4', '3', '8', '0', '3', '2', '1', '5', '3', '7', '4',\n",
       "       '7', '5', '0', '8', '9', '1', '7', '3', '5', '9', '5', '7', '3',\n",
       "       '4', '2', '0', '3', '1', '6', '0', '6', '1', '0', '4', '7', '4',\n",
       "       '7', '1', '4', '3', '1', '7', '7', '2', '0', '3', '4', '9', '5',\n",
       "       '4', '7', '3', '1', '8', '5', '5', '9', '9', '7', '3', '9', '6',\n",
       "       '8', '7', '6', '1', '7', '8', '8', '3', '9', '4', '2', '8', '5',\n",
       "       '9', '1', '1', '1', '4', '2', '6', '8', '6', '9', '6', '0', '7',\n",
       "       '5', '2', '3', '1', '3', '9', '8', '2', '4', '7', '0', '5', '3',\n",
       "       '0', '5', '3', '7', '0', '6', '7', '5', '2', '6', '6', '0', '2',\n",
       "       '3', '3', '7', '7', '2', '6', '0', '3', '4', '5', '0', '5', '3',\n",
       "       '2', '6', '4', '8', '6', '9', '4', '8', '8', '4', '3', '1', '4',\n",
       "       '0', '2', '0', '6', '7', '8', '7', '6', '5', '1', '3', '3', '4',\n",
       "       '9', '8', '0', '3', '9', '4', '0', '6', '1', '9', '6'],\n",
       "      dtype=object)"
      ]
     },
     "execution_count": 25,
     "metadata": {},
     "output_type": "execute_result"
    }
   ],
   "source": [
    "%time my_clf.predict(X_test)"
   ]
  },
  {
   "cell_type": "code",
   "execution_count": 26,
   "metadata": {},
   "outputs": [
    {
     "name": "stdout",
     "output_type": "stream",
     "text": [
      "CPU times: user 1min 21s, sys: 9.13 ms, total: 1min 21s\n",
      "Wall time: 1min 21s\n"
     ]
    },
    {
     "data": {
      "text/plain": [
       "array([[0., 0., 0., ..., 1., 0., 0.],\n",
       "       [0., 0., 0., ..., 0., 0., 1.],\n",
       "       [0., 0., 0., ..., 0., 0., 0.],\n",
       "       ...,\n",
       "       [0., 1., 0., ..., 0., 0., 0.],\n",
       "       [0., 0., 0., ..., 0., 0., 1.],\n",
       "       [0., 0., 0., ..., 0., 0., 0.]])"
      ]
     },
     "execution_count": 26,
     "metadata": {},
     "output_type": "execute_result"
    }
   ],
   "source": [
    "%time clf.predict_proba(X_test)"
   ]
  },
  {
   "cell_type": "code",
   "execution_count": 27,
   "metadata": {},
   "outputs": [
    {
     "name": "stdout",
     "output_type": "stream",
     "text": [
      "CPU times: user 5.43 s, sys: 986 ms, total: 6.41 s\n",
      "Wall time: 2.54 s\n"
     ]
    },
    {
     "data": {
      "text/plain": [
       "array([[0., 0., 0., ..., 1., 0., 0.],\n",
       "       [0., 0., 0., ..., 0., 0., 1.],\n",
       "       [0., 0., 0., ..., 0., 0., 0.],\n",
       "       ...,\n",
       "       [0., 1., 0., ..., 0., 0., 0.],\n",
       "       [0., 0., 0., ..., 0., 0., 1.],\n",
       "       [0., 0., 0., ..., 0., 0., 0.]])"
      ]
     },
     "execution_count": 27,
     "metadata": {},
     "output_type": "execute_result"
    }
   ],
   "source": [
    "%time my_clf.predict_proba(X_test)"
   ]
  },
  {
   "cell_type": "code",
   "execution_count": 28,
   "metadata": {},
   "outputs": [
    {
     "data": {
      "text/plain": [
       "0.9728571428571429"
      ]
     },
     "execution_count": 28,
     "metadata": {},
     "output_type": "execute_result"
    }
   ],
   "source": [
    "clf.score(X_test, y_test)"
   ]
  },
  {
   "cell_type": "code",
   "execution_count": 29,
   "metadata": {},
   "outputs": [
    {
     "data": {
      "text/plain": [
       "0.9728571428571429"
      ]
     },
     "execution_count": 29,
     "metadata": {},
     "output_type": "execute_result"
    }
   ],
   "source": [
    "my_clf.score(X_test, y_test)"
   ]
  },
  {
   "cell_type": "markdown",
   "metadata": {},
   "source": [
    "##### Задание 4"
   ]
  },
  {
   "cell_type": "code",
   "execution_count": 30,
   "metadata": {},
   "outputs": [],
   "source": [
    "clf = KNeighborsClassifier(n_neighbors=2, algorithm='kd_tree')\n",
    "my_clf = MyKNeighborsClassifier(n_neighbors=2, algorithm='kd_tree')"
   ]
  },
  {
   "cell_type": "code",
   "execution_count": 31,
   "metadata": {},
   "outputs": [],
   "source": [
    "X_train, X_test, y_train, y_test = train_test_split(mnist.data,\n",
    "                                                    mnist.target,\n",
    "                                                    test_size=0.01,\n",
    "                                                    stratify=mnist.target)"
   ]
  },
  {
   "cell_type": "code",
   "execution_count": 32,
   "metadata": {},
   "outputs": [
    {
     "name": "stdout",
     "output_type": "stream",
     "text": [
      "CPU times: user 43.4 s, sys: 112 ms, total: 43.5 s\n",
      "Wall time: 43.8 s\n"
     ]
    },
    {
     "data": {
      "text/plain": [
       "KNeighborsClassifier(algorithm='kd_tree', leaf_size=30, metric='minkowski',\n",
       "           metric_params=None, n_jobs=None, n_neighbors=2, p=2,\n",
       "           weights='uniform')"
      ]
     },
     "execution_count": 32,
     "metadata": {},
     "output_type": "execute_result"
    }
   ],
   "source": [
    "%time clf.fit(X_train, y_train)"
   ]
  },
  {
   "cell_type": "code",
   "execution_count": 33,
   "metadata": {},
   "outputs": [
    {
     "name": "stdout",
     "output_type": "stream",
     "text": [
      "CPU times: user 42.2 s, sys: 168 ms, total: 42.3 s\n",
      "Wall time: 42.4 s\n"
     ]
    },
    {
     "data": {
      "text/plain": [
       "MyKNeighborsClassifier(algorithm='kd_tree', n_neighbors=2)"
      ]
     },
     "execution_count": 33,
     "metadata": {},
     "output_type": "execute_result"
    }
   ],
   "source": [
    "%time my_clf.fit(X_train, y_train)"
   ]
  },
  {
   "cell_type": "code",
   "execution_count": 34,
   "metadata": {},
   "outputs": [
    {
     "name": "stdout",
     "output_type": "stream",
     "text": [
      "CPU times: user 1min 22s, sys: 17.5 ms, total: 1min 22s\n",
      "Wall time: 1min 22s\n"
     ]
    },
    {
     "data": {
      "text/plain": [
       "array(['1', '3', '8', '7', '4', '1', '1', '0', '3', '9', '2', '5', '7',\n",
       "       '1', '5', '2', '7', '3', '8', '3', '8', '3', '1', '3', '8', '4',\n",
       "       '4', '8', '3', '5', '4', '6', '0', '9', '3', '7', '0', '8', '9',\n",
       "       '6', '3', '0', '1', '5', '6', '0', '0', '6', '9', '0', '1', '9',\n",
       "       '1', '6', '5', '1', '5', '4', '1', '6', '8', '6', '9', '7', '7',\n",
       "       '9', '5', '8', '9', '0', '2', '6', '7', '8', '7', '4', '5', '3',\n",
       "       '6', '3', '0', '0', '8', '9', '7', '7', '9', '1', '2', '2', '5',\n",
       "       '1', '7', '8', '4', '7', '3', '7', '0', '5', '2', '7', '5', '7',\n",
       "       '6', '4', '4', '9', '8', '6', '1', '9', '4', '9', '3', '2', '5',\n",
       "       '0', '1', '2', '0', '9', '7', '3', '7', '6', '7', '0', '5', '4',\n",
       "       '1', '1', '0', '9', '6', '7', '6', '1', '7', '5', '1', '3', '6',\n",
       "       '8', '0', '3', '6', '2', '4', '7', '7', '8', '8', '6', '7', '5',\n",
       "       '8', '2', '3', '5', '3', '0', '2', '5', '3', '0', '5', '5', '2',\n",
       "       '3', '4', '5', '1', '8', '5', '4', '1', '1', '2', '5', '0', '2',\n",
       "       '1', '4', '8', '7', '1', '9', '5', '7', '7', '3', '1', '6', '2',\n",
       "       '3', '4', '7', '9', '1', '2', '1', '3', '6', '3', '6', '9', '6',\n",
       "       '4', '9', '1', '2', '1', '8', '7', '0', '1', '7', '4', '4', '6',\n",
       "       '0', '6', '3', '6', '4', '6', '2', '2', '1', '8', '1', '2', '8',\n",
       "       '4', '5', '2', '3', '5', '9', '3', '4', '8', '9', '5', '9', '5',\n",
       "       '2', '3', '9', '6', '5', '3', '5', '5', '4', '4', '4', '1', '4',\n",
       "       '3', '2', '6', '6', '3', '3', '6', '7', '0', '9', '3', '1', '4',\n",
       "       '0', '9', '9', '8', '2', '8', '2', '0', '7', '8', '7', '4', '9',\n",
       "       '7', '7', '0', '6', '4', '3', '0', '5', '8', '5', '2', '5', '6',\n",
       "       '1', '2', '7', '1', '1', '2', '4', '4', '8', '1', '4', '3', '6',\n",
       "       '5', '8', '9', '5', '0', '7', '1', '0', '5', '3', '9', '7', '1',\n",
       "       '5', '5', '0', '1', '0', '5', '6', '5', '9', '0', '0', '5', '0',\n",
       "       '4', '7', '4', '8', '1', '9', '3', '7', '5', '8', '9', '3', '5',\n",
       "       '0', '4', '4', '3', '1', '2', '0', '0', '0', '7', '2', '9', '7',\n",
       "       '1', '3', '0', '9', '1', '4', '1', '8', '1', '4', '7', '2', '1',\n",
       "       '3', '4', '1', '1', '6', '0', '0', '1', '3', '9', '8', '7', '1',\n",
       "       '7', '0', '3', '7', '1', '5', '8', '5', '7', '1', '0', '1', '9',\n",
       "       '4', '6', '4', '1', '1', '5', '2', '3', '8', '4', '2', '2', '8',\n",
       "       '3', '0', '1', '3', '5', '3', '8', '2', '7', '7', '8', '0', '4',\n",
       "       '5', '5', '8', '0', '2', '4', '1', '0', '4', '5', '9', '4', '0',\n",
       "       '7', '6', '9', '5', '1', '6', '3', '2', '0', '2', '2', '9', '6',\n",
       "       '8', '5', '9', '8', '9', '5', '4', '4', '6', '9', '8', '2', '7',\n",
       "       '9', '5', '1', '7', '3', '3', '3', '9', '4', '7', '7', '0', '6',\n",
       "       '7', '3', '0', '6', '9', '8', '7', '7', '4', '5', '6', '0', '7',\n",
       "       '0', '1', '8', '5', '3', '5', '6', '8', '4', '1', '5', '7', '9',\n",
       "       '2', '0', '8', '4', '1', '3', '0', '6', '9', '1', '1', '9', '5',\n",
       "       '9', '4', '2', '1', '1', '3', '2', '4', '1', '3', '7', '6', '6',\n",
       "       '7', '6', '6', '6', '3', '9', '9', '3', '3', '2', '2', '0', '6',\n",
       "       '0', '1', '4', '1', '5', '8', '4', '0', '2', '0', '3', '6', '4',\n",
       "       '7', '6', '1', '5', '9', '0', '4', '2', '0', '2', '4', '6', '0',\n",
       "       '4', '3', '3', '4', '2', '4', '8', '5', '2', '6', '9', '7', '0',\n",
       "       '2', '9', '7', '6', '2', '0', '2', '7', '1', '2', '2', '4', '3',\n",
       "       '8', '3', '8', '6', '0', '2', '7', '3', '3', '8', '2', '2', '0',\n",
       "       '6', '2', '9', '4', '4', '0', '2', '1', '5', '1', '0', '7', '2',\n",
       "       '9', '7', '2', '6', '0', '6', '4', '4', '6', '7', '2', '4', '4',\n",
       "       '2', '7', '7', '3', '6', '6', '1', '6', '8', '8', '0', '1', '3',\n",
       "       '7', '1', '6', '1', '7', '2', '8', '0', '0', '9', '0', '9', '6',\n",
       "       '5', '7', '9', '4', '4', '1', '9', '8', '9', '8', '7', '2', '3',\n",
       "       '3', '2', '9', '5', '1', '9', '5', '0', '6', '6', '9', '1', '2',\n",
       "       '9', '3', '0', '3', '7', '5', '1', '5', '3', '8', '8'],\n",
       "      dtype=object)"
      ]
     },
     "execution_count": 34,
     "metadata": {},
     "output_type": "execute_result"
    }
   ],
   "source": [
    "%time clf.predict(X_test)"
   ]
  },
  {
   "cell_type": "code",
   "execution_count": 35,
   "metadata": {},
   "outputs": [
    {
     "name": "stdout",
     "output_type": "stream",
     "text": [
      "CPU times: user 1min 10s, sys: 994 µs, total: 1min 10s\n",
      "Wall time: 1min 10s\n"
     ]
    },
    {
     "data": {
      "text/plain": [
       "array(['1', '3', '8', '7', '4', '1', '1', '0', '3', '9', '2', '5', '7',\n",
       "       '1', '5', '2', '7', '3', '8', '3', '8', '3', '1', '3', '8', '4',\n",
       "       '4', '8', '3', '5', '4', '6', '0', '9', '3', '7', '0', '8', '9',\n",
       "       '6', '3', '0', '1', '5', '6', '0', '0', '6', '9', '0', '1', '9',\n",
       "       '1', '6', '5', '1', '5', '4', '1', '6', '8', '6', '9', '7', '7',\n",
       "       '9', '5', '8', '9', '0', '2', '6', '7', '8', '7', '4', '5', '3',\n",
       "       '6', '3', '0', '0', '8', '9', '7', '7', '9', '1', '2', '2', '5',\n",
       "       '1', '7', '8', '4', '7', '3', '7', '0', '5', '2', '7', '5', '7',\n",
       "       '6', '4', '4', '9', '8', '6', '1', '9', '4', '9', '3', '2', '5',\n",
       "       '0', '1', '2', '0', '9', '7', '3', '7', '6', '7', '0', '5', '4',\n",
       "       '1', '1', '0', '9', '6', '7', '6', '1', '7', '5', '1', '3', '6',\n",
       "       '8', '0', '3', '6', '2', '4', '7', '7', '8', '8', '6', '7', '5',\n",
       "       '8', '2', '3', '5', '3', '0', '2', '5', '3', '0', '5', '5', '2',\n",
       "       '3', '4', '5', '1', '8', '5', '4', '1', '1', '2', '5', '0', '2',\n",
       "       '1', '4', '8', '7', '1', '9', '5', '7', '7', '3', '1', '6', '2',\n",
       "       '3', '4', '7', '9', '1', '2', '1', '3', '6', '3', '6', '9', '6',\n",
       "       '4', '9', '1', '2', '1', '8', '7', '0', '1', '7', '4', '4', '6',\n",
       "       '0', '6', '3', '6', '4', '6', '2', '2', '1', '8', '1', '2', '8',\n",
       "       '4', '5', '2', '3', '5', '9', '3', '4', '8', '9', '5', '9', '5',\n",
       "       '2', '3', '9', '6', '5', '3', '5', '5', '4', '4', '4', '1', '4',\n",
       "       '3', '2', '6', '6', '3', '3', '6', '7', '0', '9', '3', '1', '4',\n",
       "       '0', '9', '9', '8', '2', '8', '2', '0', '7', '8', '7', '4', '9',\n",
       "       '7', '7', '0', '6', '4', '3', '0', '5', '8', '5', '2', '5', '6',\n",
       "       '1', '2', '7', '1', '1', '2', '4', '4', '8', '1', '4', '3', '6',\n",
       "       '5', '8', '9', '5', '0', '7', '1', '0', '5', '3', '9', '7', '1',\n",
       "       '5', '5', '0', '1', '0', '5', '6', '5', '9', '0', '0', '5', '0',\n",
       "       '4', '7', '4', '8', '1', '9', '3', '7', '5', '8', '9', '3', '5',\n",
       "       '0', '4', '4', '3', '1', '2', '0', '0', '0', '7', '2', '9', '7',\n",
       "       '1', '3', '0', '9', '1', '4', '1', '8', '1', '4', '7', '2', '1',\n",
       "       '3', '4', '1', '1', '6', '0', '0', '1', '3', '9', '8', '7', '1',\n",
       "       '7', '0', '3', '7', '1', '5', '8', '5', '7', '1', '0', '1', '9',\n",
       "       '4', '6', '4', '1', '1', '5', '2', '3', '8', '4', '2', '2', '8',\n",
       "       '3', '0', '1', '3', '5', '3', '8', '2', '7', '7', '8', '0', '4',\n",
       "       '5', '5', '8', '0', '2', '4', '1', '0', '4', '5', '9', '4', '0',\n",
       "       '7', '6', '9', '5', '1', '6', '3', '2', '0', '2', '2', '9', '6',\n",
       "       '8', '5', '9', '8', '9', '5', '4', '4', '6', '9', '8', '2', '7',\n",
       "       '9', '5', '1', '7', '3', '3', '3', '9', '4', '7', '7', '0', '6',\n",
       "       '7', '3', '0', '6', '9', '8', '7', '7', '4', '5', '6', '0', '7',\n",
       "       '0', '1', '8', '5', '3', '5', '6', '8', '4', '1', '5', '7', '9',\n",
       "       '2', '0', '8', '4', '1', '3', '0', '6', '9', '1', '1', '9', '5',\n",
       "       '9', '4', '2', '1', '1', '3', '2', '4', '1', '3', '7', '6', '6',\n",
       "       '7', '6', '6', '6', '3', '9', '9', '3', '3', '2', '2', '0', '6',\n",
       "       '0', '1', '4', '1', '5', '8', '4', '0', '2', '0', '3', '6', '4',\n",
       "       '7', '6', '1', '5', '9', '0', '4', '2', '0', '2', '4', '6', '0',\n",
       "       '4', '3', '3', '4', '2', '4', '8', '5', '2', '6', '9', '7', '0',\n",
       "       '2', '9', '7', '6', '2', '0', '2', '7', '1', '2', '2', '4', '3',\n",
       "       '8', '3', '8', '6', '0', '2', '7', '3', '3', '8', '2', '2', '0',\n",
       "       '6', '2', '9', '4', '4', '0', '2', '1', '5', '1', '0', '7', '2',\n",
       "       '9', '7', '2', '6', '0', '6', '4', '4', '6', '7', '2', '4', '4',\n",
       "       '2', '7', '7', '3', '6', '6', '1', '6', '8', '8', '0', '1', '3',\n",
       "       '7', '1', '6', '1', '7', '2', '8', '0', '0', '9', '0', '9', '6',\n",
       "       '5', '7', '9', '4', '4', '1', '9', '8', '9', '8', '7', '2', '3',\n",
       "       '3', '2', '9', '5', '1', '9', '5', '0', '6', '6', '9', '1', '2',\n",
       "       '9', '3', '0', '3', '7', '5', '1', '5', '3', '8', '8'],\n",
       "      dtype=object)"
      ]
     },
     "execution_count": 35,
     "metadata": {},
     "output_type": "execute_result"
    }
   ],
   "source": [
    "%time my_clf.predict(X_test)"
   ]
  },
  {
   "cell_type": "code",
   "execution_count": 36,
   "metadata": {},
   "outputs": [
    {
     "name": "stdout",
     "output_type": "stream",
     "text": [
      "CPU times: user 1min 21s, sys: 2.01 ms, total: 1min 21s\n",
      "Wall time: 1min 21s\n"
     ]
    },
    {
     "data": {
      "text/plain": [
       "array([[0., 1., 0., ..., 0., 0., 0.],\n",
       "       [0., 0., 0., ..., 0., 0., 0.],\n",
       "       [0., 0., 0., ..., 0., 1., 0.],\n",
       "       ...,\n",
       "       [0., 0., 0., ..., 0., 0., 0.],\n",
       "       [0., 0., 0., ..., 0., 1., 0.],\n",
       "       [0., 0., 0., ..., 0., 1., 0.]])"
      ]
     },
     "execution_count": 36,
     "metadata": {},
     "output_type": "execute_result"
    }
   ],
   "source": [
    "%time clf.predict_proba(X_test)"
   ]
  },
  {
   "cell_type": "code",
   "execution_count": 37,
   "metadata": {},
   "outputs": [
    {
     "name": "stdout",
     "output_type": "stream",
     "text": [
      "CPU times: user 1min 9s, sys: 3.98 ms, total: 1min 9s\n",
      "Wall time: 1min 9s\n"
     ]
    },
    {
     "data": {
      "text/plain": [
       "array([[0., 1., 0., ..., 0., 0., 0.],\n",
       "       [0., 0., 0., ..., 0., 0., 0.],\n",
       "       [0., 0., 0., ..., 0., 1., 0.],\n",
       "       ...,\n",
       "       [0., 0., 0., ..., 0., 0., 0.],\n",
       "       [0., 0., 0., ..., 0., 1., 0.],\n",
       "       [0., 0., 0., ..., 0., 1., 0.]])"
      ]
     },
     "execution_count": 37,
     "metadata": {},
     "output_type": "execute_result"
    }
   ],
   "source": [
    "%time my_clf.predict_proba(X_test)"
   ]
  },
  {
   "cell_type": "code",
   "execution_count": 38,
   "metadata": {},
   "outputs": [
    {
     "data": {
      "text/plain": [
       "0.9585714285714285"
      ]
     },
     "execution_count": 38,
     "metadata": {},
     "output_type": "execute_result"
    }
   ],
   "source": [
    "clf.score(X_test, y_test)"
   ]
  },
  {
   "cell_type": "code",
   "execution_count": 39,
   "metadata": {},
   "outputs": [
    {
     "data": {
      "text/plain": [
       "0.9585714285714285"
      ]
     },
     "execution_count": 39,
     "metadata": {},
     "output_type": "execute_result"
    }
   ],
   "source": [
    "my_clf.score(X_test, y_test)"
   ]
  },
  {
   "cell_type": "markdown",
   "metadata": {},
   "source": [
    "##### Задание 5"
   ]
  },
  {
   "cell_type": "code",
   "execution_count": 83,
   "metadata": {},
   "outputs": [],
   "source": [
    "# seaborn\n",
    "#   библиотека визуализации данных, хранимых в pandas.DataFrame\n",
    "#   является оберткой над matplotlib\n",
    "# matplotlib\n",
    "#   библиотека для 2D-визуализации (т.е. результат - изображение) в Python.\n",
    "#   поддерживает разные типы отображения. можно использовать для визуального\n",
    "#   анализа данных\n",
    "# train_test_split\n",
    "#   функция для разделения данных на обучающую и тестовую выборки\n",
    "# Pipeline  (from sklearn.pipeline import Pipeline)\n",
    "#   класс, позволяющий объединить несколько последовательных преобразований\n",
    "#   в один объект, с возможностью изменения параметров каждого шага.\n",
    "#   можно использовать для кросс-валидации последовательности преобразований\n",
    "#   на наборах параметров\n",
    "# %load_ext\n",
    "#   line magic команда, предоставленная ядром IPython, для загрузки его модулей\n",
    "# StandardScaler (from sklearn.preprocessing import StandardScaler)\n",
    "#   класс для приведения данных к нулевому среднему и идиничному стандартному\n",
    "#   отклонению. выполняется для каждой компоненты по отдельности\n",
    "# ClassifierMixin\n",
    "#   класс, реализующий метод score с использованием метода predict\n",
    "# NeighborsBase\n",
    "#   класс, реализующий внутренние/приватные методы инициализации\n",
    "# KNeighborsMixin\n",
    "#   класс-обертка над методами поиска ближайших соседей\n",
    "# SupervisedIntegerMixin\n",
    "#   класс, реализующий метод fit как обертку над предоставляемым методом _fit,\n",
    "#   дополнительно проверяя X и y"
   ]
  },
  {
   "cell_type": "markdown",
   "metadata": {},
   "source": [
    "## Just for fun\n",
    "\n",
    "- Дополнительные замеры производительности командой `timeit`.\n",
    "- Измерение _score_ для разных параметров *k* на датасете _mnist_."
   ]
  },
  {
   "cell_type": "markdown",
   "metadata": {},
   "source": [
    "### KDTree\n",
    "\n",
    "Измерение времени работы `KNeighborsClassifier` и `MyKNeighborsClassifier` с использованием структуры `KDTree`. Измерения производятся в порядке \"библиотечная реализация, моя реализация\"."
   ]
  },
  {
   "cell_type": "markdown",
   "metadata": {},
   "source": [
    "### mnist_784"
   ]
  },
  {
   "cell_type": "code",
   "execution_count": 40,
   "metadata": {},
   "outputs": [
    {
     "name": "stdout",
     "output_type": "stream",
     "text": [
      "#### fit\n",
      "42.1 s ± 116 ms per loop (mean ± std. dev. of 7 runs, 1 loop each)\n",
      "41.9 s ± 326 ms per loop (mean ± std. dev. of 7 runs, 1 loop each)\n",
      "#### predict\n",
      "1min 21s ± 620 ms per loop (mean ± std. dev. of 7 runs, 1 loop each)\n",
      "1min 8s ± 250 ms per loop (mean ± std. dev. of 7 runs, 1 loop each)\n",
      "#### predict_proba\n",
      "1min 22s ± 883 ms per loop (mean ± std. dev. of 7 runs, 1 loop each)\n",
      "1min 8s ± 176 ms per loop (mean ± std. dev. of 7 runs, 1 loop each)\n",
      "#### score\n",
      "1min 21s ± 61.2 ms per loop (mean ± std. dev. of 7 runs, 1 loop each)\n",
      "1min 8s ± 58.7 ms per loop (mean ± std. dev. of 7 runs, 1 loop each)\n"
     ]
    }
   ],
   "source": [
    "X_train, X_test, y_train, y_test = train_test_split(mnist.data,\n",
    "                                                    mnist.target,\n",
    "                                                    test_size=0.01,\n",
    "                                                    stratify=mnist.target)\n",
    "\n",
    "sk_kd_clf = KNeighborsClassifier(n_neighbors=4, algorithm='kd_tree')\n",
    "my_kd_clf = MyKNeighborsClassifier(n_neighbors=4, algorithm='kd_tree')\n",
    "\n",
    "print('#### fit')\n",
    "%timeit sk_kd_clf.fit(X_train, y_train)\n",
    "%timeit my_kd_clf.fit(X_train, y_train)\n",
    "\n",
    "print('#### predict')\n",
    "%timeit sk_kd_clf.predict(X_test)\n",
    "%timeit my_kd_clf.predict(X_test)\n",
    "\n",
    "print('#### predict_proba')\n",
    "%timeit sk_kd_clf.predict_proba(X_test)\n",
    "%timeit my_kd_clf.predict_proba(X_test)\n",
    "\n",
    "print('#### score')\n",
    "%timeit sk_kd_clf.score(X_test, y_test)\n",
    "%timeit my_kd_clf.score(X_test, y_test)"
   ]
  },
  {
   "cell_type": "markdown",
   "metadata": {},
   "source": [
    "### Brute\n",
    "\n",
    "Измерение времени работы `KNeighborsClassifier` и `MyKNeighborsClassifier` с использованием попарного сравнения расстояний. Измерения производятся командой `timeit` в порядке \"библиотечная реализация, мои реализация\".\n",
    "\n",
    "Мои наивные реализации:\n",
    "* `'brute'` - сохраняет матрица векторов `np.asarray(X_train)`, используется по умолчанию;\n",
    "* `'precomp_brute'` - вместо исходной матрицы используются `2*X_train` и `np.einsum('ij,ij->i', X_train, X_train)`;\n",
    "* `'metrics_brute'` - аналогично `'brute'`, но расстояния вычисляются функцией `sklearn.metrics.pairwise_distances`."
   ]
  },
  {
   "cell_type": "markdown",
   "metadata": {},
   "source": [
    "### mnist_784"
   ]
  },
  {
   "cell_type": "code",
   "execution_count": 52,
   "metadata": {},
   "outputs": [
    {
     "name": "stdout",
     "output_type": "stream",
     "text": [
      "#### fit\n",
      "117 ms ± 394 µs per loop (mean ± std. dev. of 7 runs, 10 loops each)\n",
      "12.7 ms ± 417 µs per loop (mean ± std. dev. of 7 runs, 100 loops each)\n",
      "411 ms ± 3.28 ms per loop (mean ± std. dev. of 7 runs, 1 loop each)\n",
      "12.7 ms ± 331 µs per loop (mean ± std. dev. of 7 runs, 100 loops each)\n",
      "#### predict\n",
      "2.25 s ± 9.6 ms per loop (mean ± std. dev. of 7 runs, 1 loop each)\n",
      "2.78 s ± 20.8 ms per loop (mean ± std. dev. of 7 runs, 1 loop each)\n",
      "2.4 s ± 9.16 ms per loop (mean ± std. dev. of 7 runs, 1 loop each)\n",
      "2.32 s ± 36.2 ms per loop (mean ± std. dev. of 7 runs, 1 loop each)\n",
      "#### predict_proba\n",
      "2.24 s ± 8.19 ms per loop (mean ± std. dev. of 7 runs, 1 loop each)\n",
      "2.77 s ± 10.5 ms per loop (mean ± std. dev. of 7 runs, 1 loop each)\n",
      "2.4 s ± 5.13 ms per loop (mean ± std. dev. of 7 runs, 1 loop each)\n",
      "2.31 s ± 11.3 ms per loop (mean ± std. dev. of 7 runs, 1 loop each)\n",
      "#### score\n",
      "2.27 s ± 15.5 ms per loop (mean ± std. dev. of 7 runs, 1 loop each)\n",
      "2.8 s ± 52.3 ms per loop (mean ± std. dev. of 7 runs, 1 loop each)\n",
      "2.4 s ± 5.53 ms per loop (mean ± std. dev. of 7 runs, 1 loop each)\n",
      "2.32 s ± 11.2 ms per loop (mean ± std. dev. of 7 runs, 1 loop each)\n"
     ]
    }
   ],
   "source": [
    "X_train, X_test, y_train, y_test = train_test_split(mnist.data,\n",
    "                                                    mnist.target,\n",
    "                                                    test_size=0.01,\n",
    "                                                    stratify=mnist.target)\n",
    "\n",
    "sk_br_clf = KNeighborsClassifier(n_neighbors=4, algorithm='brute')\n",
    "my_br_clf = MyKNeighborsClassifier(n_neighbors=4)\n",
    "my_pb_clf = MyKNeighborsClassifier(n_neighbors=4, algorithm='precomp_brute')\n",
    "my_mb_clf = MyKNeighborsClassifier(n_neighbors=4, algorithm='metrics_brute')\n",
    "\n",
    "print('#### fit')\n",
    "%timeit sk_br_clf.fit(X_train, y_train)\n",
    "%timeit my_br_clf.fit(X_train, y_train)\n",
    "%timeit my_pb_clf.fit(X_train, y_train)\n",
    "%timeit my_mb_clf.fit(X_train, y_train)\n",
    "\n",
    "print('#### predict')\n",
    "%timeit sk_br_clf.predict(X_test)\n",
    "%timeit my_br_clf.predict(X_test)\n",
    "%timeit my_pb_clf.predict(X_test)\n",
    "%timeit my_mb_clf.predict(X_test)\n",
    "print('#### predict_proba')\n",
    "%timeit sk_br_clf.predict_proba(X_test)\n",
    "%timeit my_br_clf.predict_proba(X_test)\n",
    "%timeit my_pb_clf.predict_proba(X_test)\n",
    "%timeit my_mb_clf.predict_proba(X_test)\n",
    "print('#### score')\n",
    "%timeit sk_br_clf.score(X_test, y_test)\n",
    "%timeit my_br_clf.score(X_test, y_test)\n",
    "%timeit my_pb_clf.score(X_test, y_test)\n",
    "%timeit my_mb_clf.score(X_test, y_test)"
   ]
  },
  {
   "cell_type": "markdown",
   "metadata": {},
   "source": [
    "### iris"
   ]
  },
  {
   "cell_type": "code",
   "execution_count": 42,
   "metadata": {},
   "outputs": [
    {
     "name": "stdout",
     "output_type": "stream",
     "text": [
      "#### fit\n",
      "172 µs ± 796 ns per loop (mean ± std. dev. of 7 runs, 10000 loops each)\n",
      "64.4 µs ± 2.99 µs per loop (mean ± std. dev. of 7 runs, 10000 loops each)\n",
      "74.1 µs ± 349 ns per loop (mean ± std. dev. of 7 runs, 10000 loops each)\n",
      "62.2 µs ± 3.15 µs per loop (mean ± std. dev. of 7 runs, 10000 loops each)\n",
      "#### predict\n",
      "456 µs ± 2.28 µs per loop (mean ± std. dev. of 7 runs, 1000 loops each)\n",
      "164 µs ± 2.76 µs per loop (mean ± std. dev. of 7 runs, 10000 loops each)\n",
      "148 µs ± 204 ns per loop (mean ± std. dev. of 7 runs, 10000 loops each)\n",
      "275 µs ± 1.71 µs per loop (mean ± std. dev. of 7 runs, 1000 loops each)\n",
      "#### predict_proba\n",
      "428 µs ± 4.12 µs per loop (mean ± std. dev. of 7 runs, 1000 loops each)\n",
      "163 µs ± 321 ns per loop (mean ± std. dev. of 7 runs, 10000 loops each)\n",
      "150 µs ± 258 ns per loop (mean ± std. dev. of 7 runs, 10000 loops each)\n",
      "271 µs ± 1.9 µs per loop (mean ± std. dev. of 7 runs, 1000 loops each)\n",
      "#### score\n",
      "586 µs ± 2.76 µs per loop (mean ± std. dev. of 7 runs, 1000 loops each)\n",
      "191 µs ± 3.77 µs per loop (mean ± std. dev. of 7 runs, 10000 loops each)\n",
      "175 µs ± 1.2 µs per loop (mean ± std. dev. of 7 runs, 10000 loops each)\n",
      "304 µs ± 2.69 µs per loop (mean ± std. dev. of 7 runs, 1000 loops each)\n"
     ]
    }
   ],
   "source": [
    "X_train, X_test, y_train, y_test = train_test_split(iris.data,\n",
    "                                                    iris.target,\n",
    "                                                    test_size=0.1,\n",
    "                                                    stratify=iris.target)\n",
    "\n",
    "sk_br_clf = KNeighborsClassifier(n_neighbors=17, algorithm='brute')\n",
    "my_br_clf = MyKNeighborsClassifier(n_neighbors=17)\n",
    "my_pb_clf = MyKNeighborsClassifier(n_neighbors=17, algorithm='precomp_brute')\n",
    "my_mb_clf = MyKNeighborsClassifier(n_neighbors=17, algorithm='metrics_brute')\n",
    "\n",
    "print('#### fit')\n",
    "%timeit sk_br_clf.fit(X_train, y_train)\n",
    "%timeit my_br_clf.fit(X_train, y_train)\n",
    "%timeit my_pb_clf.fit(X_train, y_train)\n",
    "%timeit my_mb_clf.fit(X_train, y_train)\n",
    "\n",
    "print('#### predict')\n",
    "%timeit sk_br_clf.predict(X_test)\n",
    "%timeit my_br_clf.predict(X_test)\n",
    "%timeit my_pb_clf.predict(X_test)\n",
    "%timeit my_mb_clf.predict(X_test)\n",
    "\n",
    "print('#### predict_proba')\n",
    "%timeit sk_br_clf.predict_proba(X_test)\n",
    "%timeit my_br_clf.predict_proba(X_test)\n",
    "%timeit my_pb_clf.predict_proba(X_test)\n",
    "%timeit my_mb_clf.predict_proba(X_test)\n",
    "\n",
    "print('#### score')\n",
    "%timeit sk_br_clf.score(X_test, y_test)\n",
    "%timeit my_br_clf.score(X_test, y_test)\n",
    "%timeit my_pb_clf.score(X_test, y_test)\n",
    "%timeit my_mb_clf.score(X_test, y_test)"
   ]
  },
  {
   "cell_type": "markdown",
   "metadata": {},
   "source": [
    "### Визуализация для датасета mnist_784\n",
    "\n",
    "Для измерения статистики _score_ от *k* используется алгоритм `metrics_brute` как самый быстрый."
   ]
  },
  {
   "cell_type": "code",
   "execution_count": 53,
   "metadata": {},
   "outputs": [
    {
     "name": "stdout",
     "output_type": "stream",
     "text": [
      "Generating score data (101 samples per k):\n",
      "|+++++|+++++|+++++|+++++|+++++|+++++|+++++|+++++|+++++|+++++#\n",
      "Max mean 0.9743 with k equal 3\n"
     ]
    },
    {
     "data": {
      "image/png": "[encoded data removed]",
      "text/plain": [
       "<Figure size 1008x360 with 2 Axes>"
      ]
     },
     "metadata": {},
     "output_type": "display_data"
    }
   ],
   "source": [
    "score_clf = MyKNeighborsClassifier(n_neighbors=1, algorithm='metrics_brute')\n",
    "score_clf.visualize_score(data=mnist.data,\n",
    "                          target=mnist.target, \n",
    "                          N_test=101,\n",
    "                          N_k=20,\n",
    "                          frac=0.01)"
   ]
  }
 ],
 "metadata": {
  "kernelspec": {
   "display_name": "Python 3",
   "language": "python",
   "name": "python3"
  },
  "language_info": {
   "codemirror_mode": {
    "name": "ipython",
    "version": 3
   },
   "file_extension": ".py",
   "mimetype": "text/x-python",
   "name": "python",
   "nbconvert_exporter": "python",
   "pygments_lexer": "ipython3",
   "version": "3.6.8"
  }
 },
 "nbformat": 4,
 "nbformat_minor": 2
}
